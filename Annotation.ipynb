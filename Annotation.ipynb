{
 "cells": [
  {
   "cell_type": "code",
   "execution_count": 14,
   "id": "5c8c0b3a",
   "metadata": {},
   "outputs": [],
   "source": [
    "import os\n",
    "import pandas as pd\n",
    "import numpy as np\n",
    "from matplotlib import pyplot as plt\n",
    "import random\n",
    "\n",
    "import seaborn as sns\n",
    "\n",
    "sns.set(style=\"white\")\n",
    "sns.color_palette(\"deep\")\n",
    "sns.set_color_codes(\"deep\")"
   ]
  },
  {
   "cell_type": "code",
   "execution_count": 8,
   "id": "61057666",
   "metadata": {},
   "outputs": [],
   "source": [
    "orig = pd.read_csv('train_hand_final.csv')\n",
    "extra = pd.read_csv('FT_tag_training.csv')"
   ]
  },
  {
   "cell_type": "code",
   "execution_count": 9,
   "id": "584944e9",
   "metadata": {},
   "outputs": [
    {
     "data": {
      "text/html": [
       "<div>\n",
       "<style scoped>\n",
       "    .dataframe tbody tr th:only-of-type {\n",
       "        vertical-align: middle;\n",
       "    }\n",
       "\n",
       "    .dataframe tbody tr th {\n",
       "        vertical-align: top;\n",
       "    }\n",
       "\n",
       "    .dataframe thead th {\n",
       "        text-align: right;\n",
       "    }\n",
       "</style>\n",
       "<table border=\"1\" class=\"dataframe\">\n",
       "  <thead>\n",
       "    <tr style=\"text-align: right;\">\n",
       "      <th></th>\n",
       "      <th>id</th>\n",
       "      <th>topic</th>\n",
       "    </tr>\n",
       "  </thead>\n",
       "  <tbody>\n",
       "    <tr>\n",
       "      <th>0</th>\n",
       "      <td>id01</td>\n",
       "      <td>Technology</td>\n",
       "    </tr>\n",
       "    <tr>\n",
       "      <th>1</th>\n",
       "      <td>id02</td>\n",
       "      <td>Consumer Services</td>\n",
       "    </tr>\n",
       "    <tr>\n",
       "      <th>2</th>\n",
       "      <td>id03</td>\n",
       "      <td>Health Care</td>\n",
       "    </tr>\n",
       "    <tr>\n",
       "      <th>3</th>\n",
       "      <td>id04</td>\n",
       "      <td>Consumer Goods</td>\n",
       "    </tr>\n",
       "    <tr>\n",
       "      <th>4</th>\n",
       "      <td>id05</td>\n",
       "      <td>Basic Materials</td>\n",
       "    </tr>\n",
       "    <tr>\n",
       "      <th>5</th>\n",
       "      <td>id06</td>\n",
       "      <td>Industrials</td>\n",
       "    </tr>\n",
       "    <tr>\n",
       "      <th>6</th>\n",
       "      <td>id07</td>\n",
       "      <td>Financials</td>\n",
       "    </tr>\n",
       "    <tr>\n",
       "      <th>7</th>\n",
       "      <td>id08</td>\n",
       "      <td>Oil &amp; Gas</td>\n",
       "    </tr>\n",
       "    <tr>\n",
       "      <th>8</th>\n",
       "      <td>id09</td>\n",
       "      <td>Utilities</td>\n",
       "    </tr>\n",
       "    <tr>\n",
       "      <th>9</th>\n",
       "      <td>id10</td>\n",
       "      <td>Telecommunications</td>\n",
       "    </tr>\n",
       "    <tr>\n",
       "      <th>10</th>\n",
       "      <td>id11</td>\n",
       "      <td>Other</td>\n",
       "    </tr>\n",
       "  </tbody>\n",
       "</table>\n",
       "</div>"
      ],
      "text/plain": [
       "      id               topic\n",
       "0   id01          Technology\n",
       "1   id02   Consumer Services\n",
       "2   id03         Health Care\n",
       "3   id04      Consumer Goods\n",
       "4   id05     Basic Materials\n",
       "5   id06         Industrials\n",
       "6   id07          Financials\n",
       "7   id08           Oil & Gas\n",
       "8   id09           Utilities\n",
       "9   id10  Telecommunications\n",
       "10  id11               Other"
      ]
     },
     "execution_count": 9,
     "metadata": {},
     "output_type": "execute_result"
    }
   ],
   "source": [
    "id = np.unique(np.array(orig['topic']))\n",
    "topic = ['Technology', 'Consumer Services', 'Health Care', 'Consumer Goods', \n",
    "         'Basic Materials', 'Industrials','Financials','Oil & Gas','Utilities', \n",
    "         'Telecommunications','Other']\n",
    "match = pd.DataFrame({'id':id, 'topic':topic})\n",
    "match"
   ]
  },
  {
   "cell_type": "code",
   "execution_count": 11,
   "id": "34cae5ed",
   "metadata": {},
   "outputs": [
    {
     "name": "stdout",
     "output_type": "stream",
     "text": [
      "60473\n"
     ]
    }
   ],
   "source": [
    "#file = os.listdir('C:/Users/Joyce Yin/Desktop/Text mining group proj/preprocessing/dataset/ft1')\n",
    "file = []\n",
    "prefix = 'C:/Users/Joyce Yin/Desktop/Text mining group proj/preprocessing/dataset/'\n",
    "for i in range(len(os.listdir(prefix))):\n",
    "    add = 'ft' + str(i+1)\n",
    "    file_add = os.listdir(prefix + add)\n",
    "    file = file+file_add\n",
    "    \n",
    "file_sep = []\n",
    "for f in file:\n",
    "    file_sep.append(int(f.split('.',1)[0]))\n",
    "print(len(file_sep))\n",
    "\n",
    "\n",
    "idlist = []\n",
    "topic = []\n",
    "\n",
    "for i in file_sep:\n",
    "    #print(i)\n",
    "    if i in orig['docid'].tolist():\n",
    "        find = orig[orig['docid'] == i]\n",
    "        #print(find)\n",
    "        for l in range(len(find)):\n",
    "            if find.iloc[l,1]!=\"id11\":\n",
    "                #print(find.iloc[l,1])\n",
    "                idlist.append(i)\n",
    "                topic.append(find.iloc[l,1])\n",
    "            else:\n",
    "                if i in extra['docid'].tolist():\n",
    "                    find_extra = extra[extra['docid'] == i]\n",
    "                    idlist.append(i)\n",
    "                    topic.append(find_extra.iloc[0,2])\n",
    "            \n",
    "    else:\n",
    "        if i in extra['docid'].tolist():\n",
    "            find_extra = extra[extra['docid'] == i]\n",
    "            idlist.append(i)\n",
    "            topic.append(find_extra.iloc[0,2])"
   ]
  },
  {
   "cell_type": "code",
   "execution_count": 87,
   "id": "36fb11a5",
   "metadata": {
    "scrolled": false
   },
   "outputs": [],
   "source": [
    "naive = pd.DataFrame({'ftid':idlist,'topic':topic})\n",
    "for i in range(len(naive)):\n",
    "    d = naive.loc[i, 'topic']\n",
    "    if d in match['id'].tolist():\n",
    "        adjust = match[match['id']== naive.loc[i, 'topic']].iloc[0,1]\n",
    "        naive.loc[i, 'topic'] = adjust    \n",
    "#naive\n",
    "wholedataset = naive.copy()"
   ]
  },
  {
   "cell_type": "markdown",
   "id": "e96a304f",
   "metadata": {},
   "source": [
    "### Histogram 1 For Whole Data"
   ]
  },
  {
   "cell_type": "code",
   "execution_count": 88,
   "id": "e8071ff7",
   "metadata": {},
   "outputs": [
    {
     "name": "stdout",
     "output_type": "stream",
     "text": [
      "[   53   204   297  1427    64   186    73   151    30    49   116 17300\n",
      "   334  9938  1222  1753  3865   207  8545  1209]\n"
     ]
    },
    {
     "data": {
      "image/png": "[encoded data removed]",
      "text/plain": [
       "<Figure size 1152x576 with 1 Axes>"
      ]
     },
     "metadata": {},
     "output_type": "display_data"
    }
   ],
   "source": [
    "count1 = np.unique(np.array(naive['topic']),return_counts=True)\n",
    "print(count1[1])\n",
    "plt.figure(figsize=(16,8))\n",
    "bar = plt.bar(count1[0],count1[1])\n",
    "rotate = plt.xticks(rotation='vertical')\n",
    "title = plt.title('Whole Dataset Distribution')\n",
    "bar_label = plt.bar_label(bar, label_type='edge')\n",
    "plt.tick_params(labelsize=15)"
   ]
  },
  {
   "cell_type": "code",
   "execution_count": 89,
   "id": "c683792d",
   "metadata": {
    "scrolled": true
   },
   "outputs": [],
   "source": [
    "#get rid of the frequency less than 1000\n",
    "out_topic1 = []\n",
    "for i in range(len(count1[1])):\n",
    "    if count1[1][i] < 1000:\n",
    "        out_topic1.append(count1[0][i])\n",
    "        \n",
    "for i in out_topic1:\n",
    "    naive = naive[naive['topic']!=i]"
   ]
  },
  {
   "cell_type": "code",
   "execution_count": 90,
   "id": "d4a2ee13",
   "metadata": {
    "scrolled": true
   },
   "outputs": [
    {
     "data": {
      "text/html": [
       "<div>\n",
       "<style scoped>\n",
       "    .dataframe tbody tr th:only-of-type {\n",
       "        vertical-align: middle;\n",
       "    }\n",
       "\n",
       "    .dataframe tbody tr th {\n",
       "        vertical-align: top;\n",
       "    }\n",
       "\n",
       "    .dataframe thead th {\n",
       "        text-align: right;\n",
       "    }\n",
       "</style>\n",
       "<table border=\"1\" class=\"dataframe\">\n",
       "  <thead>\n",
       "    <tr style=\"text-align: right;\">\n",
       "      <th></th>\n",
       "      <th>ftid</th>\n",
       "      <th>topic</th>\n",
       "    </tr>\n",
       "  </thead>\n",
       "  <tbody>\n",
       "    <tr>\n",
       "      <th>0</th>\n",
       "      <td>1001571</td>\n",
       "      <td>business</td>\n",
       "    </tr>\n",
       "    <tr>\n",
       "      <th>1</th>\n",
       "      <td>1005617</td>\n",
       "      <td>Financials</td>\n",
       "    </tr>\n",
       "    <tr>\n",
       "      <th>2</th>\n",
       "      <td>1005672</td>\n",
       "      <td>business</td>\n",
       "    </tr>\n",
       "    <tr>\n",
       "      <th>3</th>\n",
       "      <td>1005673</td>\n",
       "      <td>economy</td>\n",
       "    </tr>\n",
       "    <tr>\n",
       "      <th>4</th>\n",
       "      <td>1005676</td>\n",
       "      <td>business</td>\n",
       "    </tr>\n",
       "    <tr>\n",
       "      <th>...</th>\n",
       "      <td>...</td>\n",
       "      <td>...</td>\n",
       "    </tr>\n",
       "    <tr>\n",
       "      <th>47018</th>\n",
       "      <td>1091584</td>\n",
       "      <td>business</td>\n",
       "    </tr>\n",
       "    <tr>\n",
       "      <th>47019</th>\n",
       "      <td>1091585</td>\n",
       "      <td>politics</td>\n",
       "    </tr>\n",
       "    <tr>\n",
       "      <th>47020</th>\n",
       "      <td>1091588</td>\n",
       "      <td>markets</td>\n",
       "    </tr>\n",
       "    <tr>\n",
       "      <th>47021</th>\n",
       "      <td>1091589</td>\n",
       "      <td>politics</td>\n",
       "    </tr>\n",
       "    <tr>\n",
       "      <th>47022</th>\n",
       "      <td>1091600</td>\n",
       "      <td>markets</td>\n",
       "    </tr>\n",
       "  </tbody>\n",
       "</table>\n",
       "<p>45259 rows × 2 columns</p>\n",
       "</div>"
      ],
      "text/plain": [
       "          ftid       topic\n",
       "0      1001571    business\n",
       "1      1005617  Financials\n",
       "2      1005672    business\n",
       "3      1005673     economy\n",
       "4      1005676    business\n",
       "...        ...         ...\n",
       "47018  1091584    business\n",
       "47019  1091585    politics\n",
       "47020  1091588     markets\n",
       "47021  1091589    politics\n",
       "47022  1091600     markets\n",
       "\n",
       "[45259 rows x 2 columns]"
      ]
     },
     "execution_count": 90,
     "metadata": {},
     "output_type": "execute_result"
    }
   ],
   "source": [
    "dataset1 = naive.copy()\n",
    "dataset1"
   ]
  },
  {
   "cell_type": "markdown",
   "id": "bf01687c",
   "metadata": {},
   "source": [
    "### Histogram 2 (labels features more than 1000) (Dataset 1 for Experiment 1)"
   ]
  },
  {
   "cell_type": "code",
   "execution_count": 91,
   "id": "cea20ac7",
   "metadata": {
    "scrolled": false
   },
   "outputs": [
    {
     "name": "stdout",
     "output_type": "stream",
     "text": [
      "[ 1427 17300  9938  1222  1753  3865  8545  1209]\n"
     ]
    },
    {
     "data": {
      "image/png": "[encoded data removed]",
      "text/plain": [
       "<Figure size 1152x576 with 1 Axes>"
      ]
     },
     "metadata": {},
     "output_type": "display_data"
    }
   ],
   "source": [
    "count2 = np.unique(np.array(naive['topic']),return_counts=True)\n",
    "print(count2[1])\n",
    "plt.figure(figsize=(16,8))\n",
    "bar2 = plt.bar(count2[0],count2[1])\n",
    "rotate2 = plt.xticks(rotation='vertical')\n",
    "title2 = plt.title('Dataset 1 Distribution with frequency more than 1000')\n",
    "bar_label2 = plt.bar_label(bar2, label_type='edge')\n",
    "plt.tick_params(labelsize=15)"
   ]
  },
  {
   "cell_type": "code",
   "execution_count": 93,
   "id": "18510016",
   "metadata": {},
   "outputs": [
    {
     "data": {
      "text/html": [
       "<div>\n",
       "<style scoped>\n",
       "    .dataframe tbody tr th:only-of-type {\n",
       "        vertical-align: middle;\n",
       "    }\n",
       "\n",
       "    .dataframe tbody tr th {\n",
       "        vertical-align: top;\n",
       "    }\n",
       "\n",
       "    .dataframe thead th {\n",
       "        text-align: right;\n",
       "    }\n",
       "</style>\n",
       "<table border=\"1\" class=\"dataframe\">\n",
       "  <thead>\n",
       "    <tr style=\"text-align: right;\">\n",
       "      <th></th>\n",
       "      <th>ftid</th>\n",
       "      <th>topic</th>\n",
       "    </tr>\n",
       "  </thead>\n",
       "  <tbody>\n",
       "    <tr>\n",
       "      <th>0</th>\n",
       "      <td>1013572</td>\n",
       "      <td>Financials</td>\n",
       "    </tr>\n",
       "    <tr>\n",
       "      <th>1</th>\n",
       "      <td>1007627</td>\n",
       "      <td>Financials</td>\n",
       "    </tr>\n",
       "    <tr>\n",
       "      <th>2</th>\n",
       "      <td>1021142</td>\n",
       "      <td>Financials</td>\n",
       "    </tr>\n",
       "    <tr>\n",
       "      <th>3</th>\n",
       "      <td>1008001</td>\n",
       "      <td>Financials</td>\n",
       "    </tr>\n",
       "    <tr>\n",
       "      <th>4</th>\n",
       "      <td>1030505</td>\n",
       "      <td>Financials</td>\n",
       "    </tr>\n",
       "    <tr>\n",
       "      <th>...</th>\n",
       "      <td>...</td>\n",
       "      <td>...</td>\n",
       "    </tr>\n",
       "    <tr>\n",
       "      <th>9667</th>\n",
       "      <td>1084764</td>\n",
       "      <td>society</td>\n",
       "    </tr>\n",
       "    <tr>\n",
       "      <th>9668</th>\n",
       "      <td>1081803</td>\n",
       "      <td>society</td>\n",
       "    </tr>\n",
       "    <tr>\n",
       "      <th>9669</th>\n",
       "      <td>1073503</td>\n",
       "      <td>society</td>\n",
       "    </tr>\n",
       "    <tr>\n",
       "      <th>9670</th>\n",
       "      <td>1052659</td>\n",
       "      <td>society</td>\n",
       "    </tr>\n",
       "    <tr>\n",
       "      <th>9671</th>\n",
       "      <td>1073940</td>\n",
       "      <td>society</td>\n",
       "    </tr>\n",
       "  </tbody>\n",
       "</table>\n",
       "<p>9672 rows × 2 columns</p>\n",
       "</div>"
      ],
      "text/plain": [
       "         ftid       topic\n",
       "0     1013572  Financials\n",
       "1     1007627  Financials\n",
       "2     1021142  Financials\n",
       "3     1008001  Financials\n",
       "4     1030505  Financials\n",
       "...       ...         ...\n",
       "9667  1084764     society\n",
       "9668  1081803     society\n",
       "9669  1073503     society\n",
       "9670  1052659     society\n",
       "9671  1073940     society\n",
       "\n",
       "[9672 rows x 2 columns]"
      ]
     },
     "execution_count": 93,
     "metadata": {},
     "output_type": "execute_result"
    }
   ],
   "source": [
    "###make balanced ditributionn on eight topic\n",
    "df = pd.DataFrame()\n",
    "for i in count2[0]:\n",
    "    topic_df = naive[naive['topic']==i]\n",
    "    select_ind = random.sample(range(len(topic_df)), 1209)\n",
    "    topic_df = topic_df.iloc[select_ind,:]\n",
    "    df = pd.concat([df, topic_df], axis=0)\n",
    "dataset2 = df\n",
    "dataset2 = dataset2.reset_index()\n",
    "dataset2 = dataset2.iloc[:,1:3]\n",
    "dataset2"
   ]
  },
  {
   "cell_type": "code",
   "execution_count": 94,
   "id": "dc63228d",
   "metadata": {},
   "outputs": [],
   "source": [
    "#get rid of the frequency less than 200\n",
    "out_topic2 = []\n",
    "for i in range(len(count2[1])):\n",
    "    if count2[1][i] < 2000:\n",
    "        out_topic2.append(count2[0][i])\n",
    "        \n",
    "for i in out_topic2:\n",
    "    naive = naive[naive['topic']!=i]"
   ]
  },
  {
   "cell_type": "code",
   "execution_count": 95,
   "id": "31386f23",
   "metadata": {
    "scrolled": false
   },
   "outputs": [
    {
     "data": {
      "text/html": [
       "<div>\n",
       "<style scoped>\n",
       "    .dataframe tbody tr th:only-of-type {\n",
       "        vertical-align: middle;\n",
       "    }\n",
       "\n",
       "    .dataframe tbody tr th {\n",
       "        vertical-align: top;\n",
       "    }\n",
       "\n",
       "    .dataframe thead th {\n",
       "        text-align: right;\n",
       "    }\n",
       "</style>\n",
       "<table border=\"1\" class=\"dataframe\">\n",
       "  <thead>\n",
       "    <tr style=\"text-align: right;\">\n",
       "      <th></th>\n",
       "      <th>ftid</th>\n",
       "      <th>topic</th>\n",
       "    </tr>\n",
       "  </thead>\n",
       "  <tbody>\n",
       "    <tr>\n",
       "      <th>0</th>\n",
       "      <td>1001571</td>\n",
       "      <td>business</td>\n",
       "    </tr>\n",
       "    <tr>\n",
       "      <th>2</th>\n",
       "      <td>1005672</td>\n",
       "      <td>business</td>\n",
       "    </tr>\n",
       "    <tr>\n",
       "      <th>3</th>\n",
       "      <td>1005673</td>\n",
       "      <td>economy</td>\n",
       "    </tr>\n",
       "    <tr>\n",
       "      <th>4</th>\n",
       "      <td>1005676</td>\n",
       "      <td>business</td>\n",
       "    </tr>\n",
       "    <tr>\n",
       "      <th>5</th>\n",
       "      <td>1005677</td>\n",
       "      <td>business</td>\n",
       "    </tr>\n",
       "    <tr>\n",
       "      <th>...</th>\n",
       "      <td>...</td>\n",
       "      <td>...</td>\n",
       "    </tr>\n",
       "    <tr>\n",
       "      <th>47018</th>\n",
       "      <td>1091584</td>\n",
       "      <td>business</td>\n",
       "    </tr>\n",
       "    <tr>\n",
       "      <th>47019</th>\n",
       "      <td>1091585</td>\n",
       "      <td>politics</td>\n",
       "    </tr>\n",
       "    <tr>\n",
       "      <th>47020</th>\n",
       "      <td>1091588</td>\n",
       "      <td>markets</td>\n",
       "    </tr>\n",
       "    <tr>\n",
       "      <th>47021</th>\n",
       "      <td>1091589</td>\n",
       "      <td>politics</td>\n",
       "    </tr>\n",
       "    <tr>\n",
       "      <th>47022</th>\n",
       "      <td>1091600</td>\n",
       "      <td>markets</td>\n",
       "    </tr>\n",
       "  </tbody>\n",
       "</table>\n",
       "<p>39648 rows × 2 columns</p>\n",
       "</div>"
      ],
      "text/plain": [
       "          ftid     topic\n",
       "0      1001571  business\n",
       "2      1005672  business\n",
       "3      1005673   economy\n",
       "4      1005676  business\n",
       "5      1005677  business\n",
       "...        ...       ...\n",
       "47018  1091584  business\n",
       "47019  1091585  politics\n",
       "47020  1091588   markets\n",
       "47021  1091589  politics\n",
       "47022  1091600   markets\n",
       "\n",
       "[39648 rows x 2 columns]"
      ]
     },
     "execution_count": 95,
     "metadata": {},
     "output_type": "execute_result"
    }
   ],
   "source": [
    "dataset3 = naive.copy()\n",
    "dataset3"
   ]
  },
  {
   "cell_type": "markdown",
   "id": "1e918406",
   "metadata": {},
   "source": [
    "### Histogram 3 (labels features more than 2000"
   ]
  },
  {
   "cell_type": "code",
   "execution_count": 96,
   "id": "079066d9",
   "metadata": {
    "scrolled": false
   },
   "outputs": [
    {
     "name": "stdout",
     "output_type": "stream",
     "text": [
      "[17300  9938  3865  8545]\n"
     ]
    },
    {
     "data": {
      "image/png": "[encoded data removed]",
      "text/plain": [
       "<Figure size 432x360 with 1 Axes>"
      ]
     },
     "metadata": {},
     "output_type": "display_data"
    }
   ],
   "source": [
    "count3 = np.unique(np.array(naive['topic']),return_counts=True)\n",
    "print(count3[1])\n",
    "plt.figure(figsize=(6,5))\n",
    "bar3 = plt.bar(count3[0],count3[1])\n",
    "rotate3 = plt.xticks(rotation='vertical')\n",
    "title3 = plt.title('Dataset 1 Distribution with frequency more than 1000')\n",
    "bar_label3 = plt.bar_label(bar3, label_type='edge')\n",
    "plt.tick_params(labelsize=15)"
   ]
  },
  {
   "cell_type": "code",
   "execution_count": 97,
   "id": "f9390977",
   "metadata": {
    "scrolled": true
   },
   "outputs": [
    {
     "data": {
      "text/html": [
       "<div>\n",
       "<style scoped>\n",
       "    .dataframe tbody tr th:only-of-type {\n",
       "        vertical-align: middle;\n",
       "    }\n",
       "\n",
       "    .dataframe tbody tr th {\n",
       "        vertical-align: top;\n",
       "    }\n",
       "\n",
       "    .dataframe thead th {\n",
       "        text-align: right;\n",
       "    }\n",
       "</style>\n",
       "<table border=\"1\" class=\"dataframe\">\n",
       "  <thead>\n",
       "    <tr style=\"text-align: right;\">\n",
       "      <th></th>\n",
       "      <th>ftid</th>\n",
       "      <th>topic</th>\n",
       "    </tr>\n",
       "  </thead>\n",
       "  <tbody>\n",
       "    <tr>\n",
       "      <th>0</th>\n",
       "      <td>1055719</td>\n",
       "      <td>business</td>\n",
       "    </tr>\n",
       "    <tr>\n",
       "      <th>1</th>\n",
       "      <td>1016766</td>\n",
       "      <td>business</td>\n",
       "    </tr>\n",
       "    <tr>\n",
       "      <th>2</th>\n",
       "      <td>1033133</td>\n",
       "      <td>business</td>\n",
       "    </tr>\n",
       "    <tr>\n",
       "      <th>3</th>\n",
       "      <td>1058562</td>\n",
       "      <td>business</td>\n",
       "    </tr>\n",
       "    <tr>\n",
       "      <th>4</th>\n",
       "      <td>1021310</td>\n",
       "      <td>business</td>\n",
       "    </tr>\n",
       "    <tr>\n",
       "      <th>...</th>\n",
       "      <td>...</td>\n",
       "      <td>...</td>\n",
       "    </tr>\n",
       "    <tr>\n",
       "      <th>15455</th>\n",
       "      <td>1035565</td>\n",
       "      <td>politics</td>\n",
       "    </tr>\n",
       "    <tr>\n",
       "      <th>15456</th>\n",
       "      <td>1037165</td>\n",
       "      <td>politics</td>\n",
       "    </tr>\n",
       "    <tr>\n",
       "      <th>15457</th>\n",
       "      <td>1044410</td>\n",
       "      <td>politics</td>\n",
       "    </tr>\n",
       "    <tr>\n",
       "      <th>15458</th>\n",
       "      <td>1053578</td>\n",
       "      <td>politics</td>\n",
       "    </tr>\n",
       "    <tr>\n",
       "      <th>15459</th>\n",
       "      <td>1039772</td>\n",
       "      <td>politics</td>\n",
       "    </tr>\n",
       "  </tbody>\n",
       "</table>\n",
       "<p>15460 rows × 2 columns</p>\n",
       "</div>"
      ],
      "text/plain": [
       "          ftid     topic\n",
       "0      1055719  business\n",
       "1      1016766  business\n",
       "2      1033133  business\n",
       "3      1058562  business\n",
       "4      1021310  business\n",
       "...        ...       ...\n",
       "15455  1035565  politics\n",
       "15456  1037165  politics\n",
       "15457  1044410  politics\n",
       "15458  1053578  politics\n",
       "15459  1039772  politics\n",
       "\n",
       "[15460 rows x 2 columns]"
      ]
     },
     "execution_count": 97,
     "metadata": {},
     "output_type": "execute_result"
    }
   ],
   "source": [
    "###make evenly ditributed\n",
    "df2 = pd.DataFrame()\n",
    "for i in count3[0]:\n",
    "    topic_df = naive[naive['topic']==i]\n",
    "    select_ind = random.sample(range(len(topic_df)), 3865)\n",
    "    topic_df = topic_df.iloc[select_ind,:]\n",
    "    df2 = pd.concat([df2, topic_df], axis=0)\n",
    "dataset4 = df2\n",
    "dataset4 = dataset4.reset_index()\n",
    "dataset4 = dataset4.iloc[:,1:3]\n",
    "dataset4"
   ]
  },
  {
   "cell_type": "markdown",
   "id": "a529271b",
   "metadata": {},
   "source": [
    "### Split training and testing set"
   ]
  },
  {
   "cell_type": "code",
   "execution_count": 107,
   "id": "616201dc",
   "metadata": {},
   "outputs": [],
   "source": [
    "def split_train_test(df, topiclist, filename):\n",
    "    train_index = []\n",
    "    test_index = []\n",
    "    train = pd.DataFrame()\n",
    "    test = pd.DataFrame()\n",
    "    \n",
    "    for i in topiclist:\n",
    "        #print(i)\n",
    "        long = len(df[df['topic'] == i])\n",
    "        train_ind = random.sample(range(long), int(long*0.8))\n",
    "        test_ind = [i for i in range(long) if i not in train_ind]\n",
    "\n",
    "        topic_df_train = df[df['topic'] == i].iloc[train_ind,:]\n",
    "        topic_df_test = df[df['topic'] == i].iloc[test_ind,:]\n",
    "\n",
    "        train = pd.concat([train, topic_df_train], axis=0)\n",
    "        test = pd.concat([test, topic_df_test], axis=0)\n",
    "\n",
    "    train_data = train.sort_values(by=['ftid'])\n",
    "    test_data = test.sort_values(by=['ftid'])\n",
    "    \n",
    "    train_data.to_csv(filename + \"train.csv\",index=False)\n",
    "    test_data.to_csv(filename + \"test.csv\", index=False)\n",
    "    #return train_data, test_data"
   ]
  },
  {
   "cell_type": "code",
   "execution_count": 108,
   "id": "5fed3d96",
   "metadata": {},
   "outputs": [],
   "source": [
    "split_train_test(dataset1, count2[0], 'dataset1')\n",
    "split_train_test(dataset2, count2[0], 'dataset2')\n",
    "split_train_test(dataset3, count3[0], 'dataset3')\n",
    "split_train_test(dataset4, count3[0], 'dataset4')"
   ]
  }
 ],
 "metadata": {
  "kernelspec": {
   "display_name": "Python 3",
   "language": "python",
   "name": "python3"
  },
  "language_info": {
   "codemirror_mode": {
    "name": "ipython",
    "version": 3
   },
   "file_extension": ".py",
   "mimetype": "text/x-python",
   "name": "python",
   "nbconvert_exporter": "python",
   "pygments_lexer": "ipython3",
   "version": "3.7.6"
  }
 },
 "nbformat": 4,
 "nbformat_minor": 5
}
