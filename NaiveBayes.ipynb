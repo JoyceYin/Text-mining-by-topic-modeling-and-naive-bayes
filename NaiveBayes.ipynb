{
 "cells": [
  {
   "cell_type": "markdown",
   "id": "1da38b11",
   "metadata": {},
   "source": [
    "### Term Document Matrix"
   ]
  },
  {
   "cell_type": "code",
   "execution_count": 84,
   "id": "b3bcdb6e",
   "metadata": {},
   "outputs": [
    {
     "data": {
      "text/html": [
       "'C:/Users/Joyce Yin/Desktop/Text mining group proj/Naive Bayes Lit'"
      ],
      "text/latex": [
       "'C:/Users/Joyce Yin/Desktop/Text mining group proj/Naive Bayes Lit'"
      ],
      "text/markdown": [
       "'C:/Users/Joyce Yin/Desktop/Text mining group proj/Naive Bayes Lit'"
      ],
      "text/plain": [
       "[1] \"C:/Users/Joyce Yin/Desktop/Text mining group proj/Naive Bayes Lit\""
      ]
     },
     "metadata": {},
     "output_type": "display_data"
    },
    {
     "data": {
      "text/html": [
       "'LC_COLLATE=Chinese (Simplified)_China.936;LC_CTYPE=Chinese (Simplified)_China.936;LC_MONETARY=Chinese (Simplified)_China.936;LC_NUMERIC=C;LC_TIME=Chinese (Simplified)_China.936'"
      ],
      "text/latex": [
       "'LC\\_COLLATE=Chinese (Simplified)\\_China.936;LC\\_CTYPE=Chinese (Simplified)\\_China.936;LC\\_MONETARY=Chinese (Simplified)\\_China.936;LC\\_NUMERIC=C;LC\\_TIME=Chinese (Simplified)\\_China.936'"
      ],
      "text/markdown": [
       "'LC_COLLATE=Chinese (Simplified)_China.936;LC_CTYPE=Chinese (Simplified)_China.936;LC_MONETARY=Chinese (Simplified)_China.936;LC_NUMERIC=C;LC_TIME=Chinese (Simplified)_China.936'"
      ],
      "text/plain": [
       "[1] \"LC_COLLATE=Chinese (Simplified)_China.936;LC_CTYPE=Chinese (Simplified)_China.936;LC_MONETARY=Chinese (Simplified)_China.936;LC_NUMERIC=C;LC_TIME=Chinese (Simplified)_China.936\""
      ]
     },
     "metadata": {},
     "output_type": "display_data"
    }
   ],
   "source": [
    "library('openNLP')\n",
    "library('tm')\n",
    "library('NLP')\n",
    "library('dplyr')\n",
    "library('data.table')\n",
    "library('tmcn')  #text mining tool for Chinese\n",
    "library('chinese.misc')\n",
    "library('caret')\n",
    "library('e1071')\n",
    "library('pROC')\n",
    "library('naivebayes')\n",
    "getwd()\n",
    "Sys.setlocale(category=\"LC_ALL\",locale=\"chinese\")"
   ]
  },
  {
   "cell_type": "markdown",
   "id": "32f55818",
   "metadata": {},
   "source": [
    "### Function Definitions"
   ]
  },
  {
   "cell_type": "code",
   "execution_count": 56,
   "id": "0fced490",
   "metadata": {},
   "outputs": [],
   "source": [
    "datapreprocess = function(corp_data, index_data){\n",
    "    call1 = match.call()\n",
    "    \n",
    "    #id with freuqency of 1\n",
    "    id_unique_list = c()\n",
    "    tttable = table(index_data[,'doc_id'])\n",
    "\n",
    "    for (i in 1:length(tttable)){\n",
    "        if (tttable[[i]]==1){\n",
    "            id_unique_list = c(id_unique_list, as.integer(names(tttable)[i]))\n",
    "        }\n",
    "    }\n",
    "    \n",
    "    df_train_index = data.frame(doc_id = id_unique_list, stringsAsFactors = FALSE)\n",
    "    #train_doc_id = unique(index_data[,'doc_id'])\n",
    "    \n",
    "    #----create match id table\n",
    "    topic = unique(index_data$topic)\n",
    "    idlist = c()\n",
    "    topiclist = c()\n",
    "    num = 0\n",
    "    for (i in topic){\n",
    "        idlist = c(idlist, num)\n",
    "        topiclist = c(topiclist, i)\n",
    "        num = num +1\n",
    "    }\n",
    "    match = data.frame(id = idlist, topic = topiclist, stringsAsFactors = FALSE)\n",
    "    \n",
    "    #-------dataframe for document term matrix\n",
    "    df_dtm_train = merge(x = df_train_index, y = corp_data, by = \"doc_id\", all.x = TRUE) \n",
    "    \n",
    "    #matched table for training model\n",
    "    index_data = merge(x = index_data, y=df_train_index, by =\"doc_id\")\n",
    "    train_match = merge(x = index_data, y = match, by = \"topic\")   #topic doc_id id\n",
    "    train_match = train_match[,c('doc_id','id')] \n",
    "    train_match = train_match[order(train_match$doc_id),]\n",
    "    \n",
    "    #----return\n",
    "    list(call=call1, dtm = df_dtm_train, match = match, train_match=train_match)\n",
    "}"
   ]
  },
  {
   "cell_type": "code",
   "execution_count": 57,
   "id": "2dcb9926",
   "metadata": {},
   "outputs": [],
   "source": [
    "train.mnb = function (dtm,labels){\n",
    "\n",
    "    V <- ncol(dtm)\n",
    "    N <- nrow(dtm)\n",
    "\n",
    "    call = match.call()\n",
    "    prior <- table(labels)/N\n",
    "    labelnames <- names(prior)\n",
    "    nclass <- length(prior)\n",
    "    cond.probs <- matrix(nrow=V,ncol=nclass)  #create an empty matrix for condtional probability\n",
    "    dimnames(cond.probs)[[1]] <- dimnames(dtm)[[2]]\n",
    "    dimnames(cond.probs)[[2]] <- labelnames\n",
    "    index <- list(length=nclass)\n",
    "    for(j in 1:nclass){\n",
    "        index[[j]] <- c(1:N)[labels == labelnames[j]]\n",
    "    }\n",
    "\n",
    "    for(i in 1:V){\n",
    "        #flush.console()\n",
    "        for(j in 1:nclass){\n",
    "            cond.probs[i,j] <- (sum(dtm[index[[j]],i])+1)/(sum(dtm[index[[j]],])+V)\n",
    "        }\n",
    "    }\n",
    "    list(call=call,prior=prior,cond.probs=cond.probs)\n",
    "}"
   ]
  },
  {
   "cell_type": "code",
   "execution_count": 58,
   "id": "a41a1617",
   "metadata": {},
   "outputs": [],
   "source": [
    "predict.mnb = function (model_train,test.dtm)\n",
    "{\n",
    "    classlabels <- dimnames(model_train$cond.probs)[[2]]\n",
    "    logprobs <- as.matrix(test.dtm) %*% log(model_train$cond.probs)\n",
    "    N <- nrow(test.dtm)\n",
    "    nclass <- ncol(model_train$cond.probs)\n",
    "    logprobs <- logprobs+matrix(nrow=N,ncol=nclass,log(model_train$prior),byrow=T)\n",
    "    classlabels[max.col(logprobs)]\n",
    "}"
   ]
  },
  {
   "cell_type": "code",
   "execution_count": 59,
   "id": "6fd6948e",
   "metadata": {},
   "outputs": [],
   "source": [
    "#implement by own\n",
    "wholeprocess = function(df_corp, train_index, test_index, sparsity, en_zh)\n",
    "{\n",
    "    #call = match.call()\n",
    "    datapre = datapreprocess(df_corp, train_index)\n",
    "    #print(head(datapre$dtm))\n",
    "    \n",
    "    print('-----------Document Term Matrix Generating')\n",
    "    Corpus = VCorpus(DataframeSource(datapre$dtm));  #summary(Corpus);\n",
    "    if (en_zh == 'en'){\n",
    "        TDM = DocumentTermMatrix(Corpus);\n",
    "    }else{\n",
    "        TDM = DocumentTermMatrix(Corpus, control = list(wordLengths=c(1, Inf)));\n",
    "    }\n",
    "    #remove terms with set sparsity\n",
    "    dtm <- removeSparseTerms(TDM,sparsity)\n",
    "    inspect(dtm)\n",
    "    \n",
    "    print(datapre$match[,'topic'])\n",
    "    \n",
    "    flush.console()\n",
    "    \n",
    "    print('-----------Naive Bayes Model Building')\n",
    "    train_match = datapre$train_match\n",
    "    labels <- train_match[,'id']\n",
    "    model_train <- train.mnb(dtm,labels)\n",
    "    print(model_train$prior)\n",
    "    flush.console()\n",
    "\n",
    "    names(model_train$prior) <- datapre$match[,'topic']\n",
    "    #model_train$prior\n",
    "    model_train$cond.probs = as.matrix(model_train$cond.probs)\n",
    "    dimnames(model_train$cond.probs)[[2]] <- datapre$match[,'topic']\n",
    "    \n",
    "    flush.console()\n",
    "    \n",
    "    print('-----------Testing')\n",
    "    print('-----------Document Term Matrix Generating')\n",
    "    datapre_test = datapreprocess(df_corp, test_index)\n",
    "    df_dtm_test = datapre_test$dtm\n",
    "\n",
    "    Corpus_test = VCorpus(DataframeSource(df_dtm_test));  #summary(Corpus);\n",
    "    test.dtm = DocumentTermMatrix(Corpus_test, list(dictionary=dimnames(dtm)[[2]]));\n",
    "    inspect(test.dtm)\n",
    "    \n",
    "    flush.console()\n",
    "\n",
    "    print('-----------Predicting')\n",
    "    model_predict <- predict.mnb(model_train,test.dtm)\n",
    "\n",
    "    #show id corresponded topic\n",
    "    true_labels = merge(x=datapre_test$train_match, y=datapre_test$match, by=\"id\", all.x = TRUE)\n",
    "    true_labels = true_labels[order(true_labels$doc_id),]\n",
    "    table(model_predict,true_labels[,'topic'])\n",
    "    flush.console()\n",
    "    \n",
    "    print('-----------Evaluating')\n",
    "    evalu = data.frame(pred = model_predict, true = true_labels[,'topic'], stringsAsFactors = TRUE)\n",
    "    confusion = confusionMatrix(data = evalu[,'pred'],reference = evalu[,'true'])\n",
    "}"
   ]
  },
  {
   "cell_type": "code",
   "execution_count": 87,
   "id": "5f71b242",
   "metadata": {},
   "outputs": [],
   "source": [
    "#implement by packages\n",
    "naive.bayes = function(df_corp, train_index, test_index){\n",
    "    process = datapreprocess(df_corp, train_index)\n",
    "    data_match = merge(x = process$train_match, y=process$match, by = \"id\", all.x = TRUE)\n",
    "    data_match = data_match[,c('doc_id','topic')]\n",
    "\n",
    "    #process$dtm\n",
    "    Corpus = VCorpus(DataframeSource(process$dtm));  #summary(Corpus);\n",
    "    TDM = DocumentTermMatrix(Corpus, control = list(stopwords=TRUE,\n",
    "                                                   wordLengths=c(1, Inf)));\n",
    "    #inspect(TDM)\n",
    "    dtm <- removeSparseTerms(TDM,0.97)\n",
    "    inspect(dtm)\n",
    "\n",
    "    df = data.frame(as.matrix(dtm), stringsAsFactors=FALSE)\n",
    "    df <- cbind(doc_id = rownames(df), df)\n",
    "    rownames(df) <- 1:nrow(df)\n",
    "\n",
    "    data_train = merge(x =df, y=data_match, by = \"doc_id\", all.x = TRUE)\n",
    "    nb = naive_bayes(topic ~ ., data_train[,-1], laplace = 1)\n",
    "    summary(nb)\n",
    "    tables(nb, 1)\n",
    "\n",
    "    process_test = datapreprocess(df_corp, test_index)\n",
    "    data_match = merge(x = process_test$train_match, y=process_test$match, by = \"id\", all.x = TRUE)\n",
    "    data_match = data_match[,c('doc_id','topic')]\n",
    "\n",
    "    #process$dtm\n",
    "    test.Corpus = VCorpus(DataframeSource(process_test$dtm));  #summary(Corpus);\n",
    "    test.dtm = DocumentTermMatrix(test.Corpus, list(dictionary=dimnames(dtm)[[2]]));\n",
    "\n",
    "    test.df = data.frame(as.matrix(test.dtm), stringsAsFactors=FALSE)\n",
    "    test.df <- cbind(doc_id = rownames(test.df), test.df)\n",
    "    rownames(test.df) <- 1:nrow(test.df)\n",
    "\n",
    "    data_test = merge(x =test.df, y=data_match, by = \"doc_id\", all.x = TRUE)\n",
    "    test_pred = data_test[,-dim(data_test)[2]]\n",
    "    test_pred = test_pred[,-1]\n",
    "    \n",
    "    laplace1 = predict(nb, data_test, type=\"class\")\n",
    "    #table(laplace1, data_test$topic, dnn=c(\"predict\", \"actual\"))\n",
    "    evalu = data.frame(pred = laplace1, true = data_test$topic, stringsAsFactors = TRUE)\n",
    "    confusion = confusionMatrix(data = evalu[,'pred'],reference = evalu[,'true'])\n",
    "}"
   ]
  },
  {
   "cell_type": "markdown",
   "id": "1f979d2a",
   "metadata": {},
   "source": [
    "### Load data (training and testing)"
   ]
  },
  {
   "cell_type": "code",
   "execution_count": 8,
   "id": "a438441d",
   "metadata": {},
   "outputs": [
    {
     "data": {
      "text/html": [
       "'LC_COLLATE=Chinese (Simplified)_China.936;LC_CTYPE=Chinese (Simplified)_China.936;LC_MONETARY=Chinese (Simplified)_China.936;LC_NUMERIC=C;LC_TIME=Chinese (Simplified)_China.936'"
      ],
      "text/latex": [
       "'LC\\_COLLATE=Chinese (Simplified)\\_China.936;LC\\_CTYPE=Chinese (Simplified)\\_China.936;LC\\_MONETARY=Chinese (Simplified)\\_China.936;LC\\_NUMERIC=C;LC\\_TIME=Chinese (Simplified)\\_China.936'"
      ],
      "text/markdown": [
       "'LC_COLLATE=Chinese (Simplified)_China.936;LC_CTYPE=Chinese (Simplified)_China.936;LC_MONETARY=Chinese (Simplified)_China.936;LC_NUMERIC=C;LC_TIME=Chinese (Simplified)_China.936'"
      ],
      "text/plain": [
       "[1] \"LC_COLLATE=Chinese (Simplified)_China.936;LC_CTYPE=Chinese (Simplified)_China.936;LC_MONETARY=Chinese (Simplified)_China.936;LC_NUMERIC=C;LC_TIME=Chinese (Simplified)_China.936\""
      ]
     },
     "metadata": {},
     "output_type": "display_data"
    },
    {
     "name": "stderr",
     "output_type": "stream",
     "text": [
      "Warning message in data.table::fread(\"wholedataset_zh.csv\"):\n",
      "\"Found and resolved improper quoting out-of-sample. First healed line 158: <<\"1005997\",\"嘉士 精美 艺术品 古董 在线 拍卖 网站 实时 多媒体 拍卖 网站 登录 网站 参与 拍卖 显示器 有 条目 右边 现场 拍卖人 光 标移 有 出价 字样 横栏 进行 现场 电话 出价 买主 在线 买家 你 无线 网络 信号 强 嘉士 德南 肯辛顿 拍卖 行( 举行 拍卖 时候 你 花园 游艇 纽约 一家 咖啡馆 一个 托斯卡纳式 别墅 参与 竞价 这 只是 嘉士德 国际 运营 主管 安迪 福斯特( 介绍 客户们 喜欢 我们 希望 嘉士德 拍卖 场所 每次 拍卖 接入 拍卖 场所 分布 巴黎 到 迪拜 香港 全球 各地 巴黎 拍卖 法语 提示 语言 法语 来自 米兰 竞拍者 听>>. If the fields are not quoted (e.g. field separator does not appear within any field), try quote=\"\" to avoid this warning.\"\n"
     ]
    }
   ],
   "source": [
    "df_corp=read.csv('wholedataset_en.csv')\n",
    "Sys.setlocale(category=\"LC_ALL\",locale=\"chinese\")\n",
    "df_corp_zh = data.table::fread('wholedataset_zh.csv')"
   ]
  },
  {
   "cell_type": "markdown",
   "id": "52e0bd4d",
   "metadata": {},
   "source": [
    "### Naive Bayes Modeling "
   ]
  },
  {
   "cell_type": "markdown",
   "id": "c2248119",
   "metadata": {},
   "source": [
    "# Experiment1: Dataset 1 (eight topics no balance)"
   ]
  },
  {
   "cell_type": "markdown",
   "id": "55b4ebcf",
   "metadata": {},
   "source": [
    "### English Section"
   ]
  },
  {
   "cell_type": "code",
   "execution_count": 61,
   "id": "a049fc9f",
   "metadata": {},
   "outputs": [],
   "source": [
    "train_index1 = read.csv('Experimental dataset/dataset1train.csv')\n",
    "test_index1 = read.csv('Experimental dataset/dataset1test.csv')\n",
    "colnames(train_index1) <- c(\"doc_id\", \"topic\")\n",
    "colnames(test_index1) <- c(\"doc_id\", \"topic\")"
   ]
  },
  {
   "cell_type": "code",
   "execution_count": 9,
   "id": "e7666feb",
   "metadata": {
    "scrolled": true
   },
   "outputs": [
    {
     "name": "stdout",
     "output_type": "stream",
     "text": [
      "   doc_id\n",
      "1 1001571\n",
      "2 1005617\n",
      "3 1005676\n",
      "4 1005677\n",
      "5 1005678\n",
      "6 1005703\n",
      "                                                                                                                                                                                                                                                                                                                                                                                                                                                                                                                                                                                                                                                                                                                                                                                                                                                                                                                                                                                                                                                                                                                                                                                                                                                                                                                                                                                                                                                                                                                                                                                                                                                                                                                                                                                                                                                                                                                                                                                                                                                                                                                                                                                                                                                                                                                                                                                                                                                                                                                                                                                                                                                                                                                                                                                                                                                                                                                                                                                                                                                                              text\n",
      "1                                                                                                                                                                                                                                                                                                                                                                                                                                                                                                                                                                                                                                                                                                                                                                                                                                                                                                                                                                                                                                                                                                                                                                           London complacent continue preeminence financial centre availability skilled staff flexible labour market light regulation make City good place global institution business business district govern body Corporation Londons late research ranking financial centre publish suggest Chinas increase economic power make likely host new global financial service centre future previous study London New York move Frankfurt Paris assess criterion see important competitiveness individual work industry London likely name choose location transaction require global financial centre New York come previous survey report say city continue neck neck Paris Frankfurt be important regional financial centre preeminence City Wall Street be pronounced say Michael Snyder corporation chairman policy resource one consult survey believe London New York lose position global financial centre respondent divide be scope third one develop feel China Shanghai Respondents believe Tokyo recover previous importance bureaucracy poor regulation report author warn room London New York complacent strength bring historical factor future bring fresh competitive challenge example survey suggest corporate personal tax regime likely great concern financial sector most find way cope moment respondent say City have shortage skill derivative operation survey show London see expensive location concern light regulatory burden get heavy offset flexibility quality staff London view regulation be more problem European Union potential threat job finance sector dominant city technology outsourcing cheap city Asia head trading Londonbased investment bank reflect view most respondent explain offshore outsource operation challenge London New York good place site central operation move liquidity global centre such London New York establish be impossible move say\n",
      "2 welcome Japan normal economic world Bank Japans decision last raise main interest rate cent give central bank choice first time next cutting raise rate peer US eurozone UK expect bank loosen policy opposite Japan end interest rate signal fall asset price deflation well nervous international investor main question Japans return modest economic expansion monetary orthodoxy expose fragility large global trade imbalance found part availability cheap finance world main central bank engage coordinated monetary tighten speed BoJ put interest rate take new significance BoJs dovish statement C accommodative monetary environment ensue low interest rate maintain time C meet calm reaction financial market welltraile move investor take rate adjustment stride Julian Jessop Capital Economics Londonbased consultancy think market underestimate chance sustained series rate rise draw parallel US Federal Reserve European Central Bank start tighten monetary policy low cent cent similar language Fed outset tighten cycle prevent US rate rise cent say Future rise Japans interest rate encourage japanese investor invest money home danger be lead high yen fall value foreign asset result low demand Less investment US asset bring bursting US housing bubble brake consumerle growth spread economic pain world Jim ONeill head global economic research Goldman Sachs say Given Japans role global saver boj tighten more expect consequence concern Fed ECB do sign move suggest BoJ cognisant risk main central bank BoJ key Japan be involved risky trade world boj signal interest rate policy March hedge fund other investor involve socalled carry trade c investor borrow currency such yen invest highyielde foreign asset C begin reduce exposure popular such trade lead decline highyielde currency New Zealand Iceland Mr ONeill point impossible disentangle variety force lead May June selloff financial market include uncertainty pace monetary tightening Fed Ben Bernanke new chairman yen weaken Andrew Smithers Londonbased Smithers Co note represent end japanese currencys previous overshoot dollar reaction monetary policy differential interest rate Japan remain wide problem economist be impossible know advance friday rise prove catalyst unwinding global imbalance have little direct impact answer depend unknown such size carry trade investor perception future currency movement yen dollar clarity BoJ communicate monetary policy impact japanese investor decision US emergingmarket asset value tight financial condition Japan contribute tight condition current global environment c characterise rise tension Middle East high energy price downward pressure equity market C make difficult discern direct impact Tokyo move market volatility BoJs action have little impact world economy have totemic significance Japan Toshihiko Fukui embattle boj governor be able proclaim Friday japanese economy be difficult period year effort private public sector begin return normal state\n",
      "3                                                                                                                                                                                                                                                                                                                                                                                                                                                                                                                                                                                                                                                                                                                                                                                                                                                                                                                                                                                                                                                                                                                                                                                                                                                                                                                                                                                                                                                                                                                                                                                                                                                                                                                                                                                                                                                                                                                                                                                                                                                                                                                                                                                                                                                                                                                                                                                                                                                                                                                                                                                                                                                                 Gome Electrical Appliances Chinas large retailer sector poise make offer domestic rival lead rare merger Hong Konglisted China company Gome control Huang Guangyu Chinas rich man say suspend share voluntary general offer China Paradise Electronics Chinas thirdlarg appliance retailer offer USm be market cap China Paradise Morgan Stanley minority shareholder company hold cent China Paradise cent Gome\n",
      "4                                                                                                                                                                                                                                                                                                                                                                                                                                                                                                                                                                                                                                                                                                                                                                                                                                                                                                                                                                                                                                                                                                                                                                                                                                                                                                                                                                                                                                                                                                                                                                                                                                                                                                                                                                                                                                                                                                                                                                                                                                                                                                                                                                                                                                                                                                                                                                                                                                                                                                                                                                                                                                                                                                                             New York Times plan shrink size page cent effort counteract steady rise newsprint price change take effect represent dramatic adjustment paper appearance history expect save company year paper publisher New York Times Company say plan save additional m year consolidate New York print site result job loss production staff paper shed worker\n",
      "5                                                                                                                                                                                                                                                                                                                                                                                                                                                                                                                                                                                                                                                                                                                                                                                                                                         pace Chinas economic expansion continue produce gasp economist pay track yesterday announcement second growth cent surprising upside bullish commentator hard detect similar degree surprise worry hall power Beijing China commit rebalance economy reliance investment export growth component continue make large share output growth driver conspire give China large rise external surplus beginning severe political problem US Europe meantime chinese leader happy have high growth level job creation come political prerequisite communist partys power massage market tough tighten measure Zheng Jingping National Bureau Statistics give impression briefing government relax economic outlook believe growth rate current stage reasonable say be debate accuracy figure positive sign government low inflation cent June normal economy suggest economy grow potential overheat say Stephen Green Standard Chartered Bank Shanghai clear case government central government much shortterm drag economy present path growth GDP announcement buy many prediction imminent interest rate rise basis point help slow investment small interest rate rise have little impact more half investment fund retain earning stateowned private company have little incentive moment change behaviour model suggest lending rate need rise basis point deposit rate reach neutral level monetary condition interest rate become effective policy tool say Dong Tao Credit Suisse Hong Kong key reason cap rate rise reluctance government allow renminbi Chinas currency appreciate Beijing fear high rate attract more capital inflow differ other issue hardening consensus China economist government allow renminbi climb value China break peg US dollar July allow oneoff cent appreciation renminbi creep cent effective monetary policy government become reliant ever oldstyle administrative directive be work involve tough political decision Deutsche Bank economist note say Beijings failure cool investment result local government supply land developer other investor new anticorruption drive affect investment decision think anticorruption campaign time effective few rate hike slow investment say DB note\n",
      "6                                                                                                                                                                                                                                                                                                                                                                                                                                                                                                                                                                                                                                                                                                                                                                                                                                                                                                                                                                                                                                                                                                                                                                                                                                                                                                                                                                                                                                                                                                                                                                                                                                                                                                                                                                                                                                                                                                                                                                                                                                                                                                                                                                                                                                                                                                                                                                                                                                                                                                                                                                                                                                                                                                                              Sony due receive first shipment game console PlayStation early sign progress group push meet launch date longdelaye PS Asustek taiwanese electronic manufacturer poise deliver console Sony start unit industry source japanese company plan introduce nextgeneration PlayStation technical issue force delay launch November Japan overseas market\n",
      "[1] \"-----------Document Term Matrix Generating\"\n",
      "<<DocumentTermMatrix (documents: 36077, terms: 491)>>\n",
      "Non-/sparse entries: 1240213/16473594\n",
      "Sparsity           : 93%\n",
      "Maximal term length: 14\n",
      "Weighting          : term frequency (tf)\n",
      "Sample             :\n",
      "         Terms\n",
      "Docs      bank cent china chinese company have market new say world\n",
      "  1017029    7   12     1       0       4    8     29   5  12    13\n",
      "  1017412    1    1     0       1      30   19      0   3  31     1\n",
      "  1018031    0    2    28      45      18   12     64   6   1     3\n",
      "  1020531    2    7     2       0       5    6      3   4  12     3\n",
      "  1021616    3    1    30      14      22   11      6  15  12     5\n",
      "  1023366    0    6    43      21      19    8     13   0   8     3\n",
      "  1075495    6   14     4       0       1    3      7   3   8     1\n",
      "  1078838   70   19     7       5       8    3      1   3  13     1\n",
      "  1080351    7    9    10       4      19   13     11   4  21     3\n",
      "  1081802    0   21    14      16       6    3      4   4  11     4\n",
      "[1] \"business\"   \"Financials\" \"economy\"    \"markets\"    \"management\"\n",
      "[6] \"lifestyle\"  \"society\"    \"politics\"  \n"
     ]
    },
    {
     "name": "stdout",
     "output_type": "stream",
     "text": [
      "[1] \"-----------Naive Bayes Model Building\"\n",
      "labels\n",
      "         0          1          2          3          4          5          6 \n",
      "0.38337445 0.02921529 0.21983535 0.08567786 0.03855642 0.02705325 0.02680378 \n",
      "         7 \n",
      "0.18948360 \n",
      "[1] \"-----------Testing\"\n",
      "[1] \"-----------Document Term Matrix Generating\"\n",
      "<<DocumentTermMatrix (documents: 9042, terms: 491)>>\n",
      "Non-/sparse entries: 315118/4124504\n",
      "Sparsity           : 93%\n",
      "Maximal term length: 14\n",
      "Weighting          : term frequency (tf)\n",
      "Sample             :\n",
      "         Terms\n",
      "Docs      bank cent china chinese company have market new say world\n",
      "  1012631   41    1     1       0       2   17      6   4  16     3\n",
      "  1016205    4    3     7       1       1    3      3   0   7     9\n",
      "  1017942    7   22     2       0      10    5      6   5  12     0\n",
      "  1020575   31    3     0       0       1    6     15   5   9     5\n",
      "  1021081   13    0     0       0       0   10      6   3   1     4\n",
      "  1022333    3   12     2       0       5    2     14   1  13     3\n",
      "  1078153    4    6    22      18      20    7      2   1   7     6\n",
      "  1079314    1    0    11       7       4    5      4   4  10     4\n",
      "  1082731    0    5    15       2      13   12      2   2  13     1\n",
      "  1090357    2    0     7       3       6   24     12   1   3     5\n",
      "[1] \"-----------Predicting\"\n",
      "[1] \"-----------Evaluating\"\n"
     ]
    }
   ],
   "source": [
    "naivebayes_en1 = wholeprocess(df_corp, train_index1, test_index1, 0.97, 'en')"
   ]
  },
  {
   "cell_type": "code",
   "execution_count": 20,
   "id": "b6ec98cc",
   "metadata": {
    "scrolled": true
   },
   "outputs": [
    {
     "data": {
      "text/plain": [
       "Confusion Matrix and Statistics\n",
       "\n",
       "            Reference\n",
       "Prediction   business economy Financials lifestyle management markets politics\n",
       "  business       2395     165         48        22         20     117       80\n",
       "  economy         201    1174         68         5          4      75      107\n",
       "  Financials      123      97         77         1          9      27        5\n",
       "  lifestyle       109      33          8       167         31       0       20\n",
       "  management      142      37         22        15        260       4        4\n",
       "  markets         229     169         32         4          0     541        8\n",
       "  politics        172     213         14        10          8       8     1399\n",
       "  society          88      97         10        20         19       1       86\n",
       "            Reference\n",
       "Prediction   society\n",
       "  business        21\n",
       "  economy         10\n",
       "  Financials       2\n",
       "  lifestyle       21\n",
       "  management      26\n",
       "  markets          0\n",
       "  politics        43\n",
       "  society        119\n",
       "\n",
       "Overall Statistics\n",
       "                                          \n",
       "               Accuracy : 0.6782          \n",
       "                 95% CI : (0.6684, 0.6878)\n",
       "    No Information Rate : 0.3825          \n",
       "    P-Value [Acc > NIR] : < 2.2e-16       \n",
       "                                          \n",
       "                  Kappa : 0.5898          \n",
       "                                          \n",
       " Mcnemar's Test P-Value : < 2.2e-16       \n",
       "\n",
       "Statistics by Class:\n",
       "\n",
       "                     Class: business Class: economy Class: Financials\n",
       "Sensitivity                   0.6924         0.5914          0.275986\n",
       "Specificity                   0.9153         0.9334          0.969873\n",
       "Pos Pred Value                0.8351         0.7141          0.225806\n",
       "Neg Pred Value                0.8277         0.8904          0.976784\n",
       "Prevalence                    0.3825         0.2195          0.030856\n",
       "Detection Rate                0.2649         0.1298          0.008516\n",
       "Detection Prevalence          0.3172         0.1818          0.037713\n",
       "Balanced Accuracy             0.8038         0.7624          0.622929\n",
       "                     Class: lifestyle Class: management Class: markets\n",
       "Sensitivity                   0.68443           0.74074        0.69987\n",
       "Specificity                   0.97477           0.97123        0.94655\n",
       "Pos Pred Value                0.42931           0.50980        0.55036\n",
       "Neg Pred Value                0.99110           0.98933        0.97121\n",
       "Prevalence                    0.02699           0.03882        0.08549\n",
       "Detection Rate                0.01847           0.02875        0.05983\n",
       "Detection Prevalence          0.04302           0.05640        0.10871\n",
       "Balanced Accuracy             0.82960           0.85599        0.82321\n",
       "                     Class: politics Class: society\n",
       "Sensitivity                   0.8186        0.49174\n",
       "Specificity                   0.9362        0.96352\n",
       "Pos Pred Value                0.7493        0.27045\n",
       "Neg Pred Value                0.9568        0.98570\n",
       "Prevalence                    0.1890        0.02676\n",
       "Detection Rate                0.1547        0.01316\n",
       "Detection Prevalence          0.2065        0.04866\n",
       "Balanced Accuracy             0.8774        0.72763"
      ]
     },
     "metadata": {},
     "output_type": "display_data"
    }
   ],
   "source": [
    "naivebayes_en1"
   ]
  },
  {
   "cell_type": "code",
   "execution_count": 65,
   "id": "d264c04a",
   "metadata": {},
   "outputs": [
    {
     "name": "stdout",
     "output_type": "stream",
     "text": [
      "<<DocumentTermMatrix (documents: 36077, terms: 481)>>\n",
      "Non-/sparse entries: 1193151/16159886\n",
      "Sparsity           : 93%\n",
      "Maximal term length: 14\n",
      "Weighting          : term frequency (tf)\n",
      "Sample             :\n",
      "         Terms\n",
      "Docs      bank cent china chinese company make market new say world\n",
      "  1017029    7   12     1       0       4    6     29   5  12    13\n",
      "  1017412    1    1     0       1      30    6      0   3  31     1\n",
      "  1018031    0    2    28      45      18    5     64   6   1     3\n",
      "  1020531    2    7     2       0       5    4      3   4  12     3\n",
      "  1021616    3    1    30      14      22    6      6  15  12     5\n",
      "  1023366    0    6    43      21      19    2     13   0   8     3\n",
      "  1075495    6   14     4       0       1    1      7   3   8     1\n",
      "  1078838   70   19     7       5       8    2      1   3  13     1\n",
      "  1080351    7    9    10       4      19    3     11   4  21     3\n",
      "  1081802    0   21    14      16       6    4      4   4  11     4\n",
      "\n",
      "================================== Naive Bayes ================================== \n",
      " \n",
      "- Call: naive_bayes.formula(formula = topic ~ ., data = data_train[,      -1], laplace = 1) \n",
      "- Laplace: 1 \n",
      "- Classes: 8 \n",
      "- Samples: 36077 \n",
      "- Features: 481 \n",
      "- Conditional distributions: \n",
      "    - Gaussian: 481\n",
      "- Prior probabilities: \n",
      "    - business: 0.3834\n",
      "    - economy: 0.2198\n",
      "    - Financials: 0.0292\n",
      "    - lifestyle: 0.0271\n",
      "    - management: 0.0386\n",
      "    - markets: 0.0857\n",
      "    - politics: 0.1895\n",
      "    - society: 0.0268\n",
      "\n",
      "--------------------------------------------------------------------------------- \n"
     ]
    },
    {
     "name": "stderr",
     "output_type": "stream",
     "text": [
      "Warning message:\n",
      "\"predict.naive_bayes(): more features in the newdata are provided as there are probability tables in the object. Calculation is performed based on features to be found in the tables.\"\n"
     ]
    },
    {
     "data": {
      "text/plain": [
       "Confusion Matrix and Statistics\n",
       "\n",
       "            Reference\n",
       "Prediction   business economy Financials lifestyle management markets politics\n",
       "  business       1440     122          2        15         20      71       46\n",
       "  economy         131     627          4         1          3      43       63\n",
       "  Financials      165     151        267        17         46      27       11\n",
       "  lifestyle       102      37          1        88         10       0       31\n",
       "  management      154      43          4        10        106       9        9\n",
       "  markets         573     531          1         5          6     563       19\n",
       "  politics        398     301          0        14         16      30     1306\n",
       "  society         496     173          0        94        144      30      224\n",
       "            Reference\n",
       "Prediction   society\n",
       "  business        12\n",
       "  economy          4\n",
       "  Financials       2\n",
       "  lifestyle       12\n",
       "  management      13\n",
       "  markets          5\n",
       "  politics        29\n",
       "  society        165\n",
       "\n",
       "Overall Statistics\n",
       "                                          \n",
       "               Accuracy : 0.5045          \n",
       "                 95% CI : (0.4942, 0.5149)\n",
       "    No Information Rate : 0.3825          \n",
       "    P-Value [Acc > NIR] : < 2.2e-16       \n",
       "                                          \n",
       "                  Kappa : 0.4082          \n",
       "                                          \n",
       " Mcnemar's Test P-Value : < 2.2e-16       \n",
       "\n",
       "Statistics by Class:\n",
       "\n",
       "                     Class: business Class: economy Class: Financials\n",
       "Sensitivity                   0.4163        0.31587           0.95699\n",
       "Specificity                   0.9484        0.96472           0.95219\n",
       "Pos Pred Value                0.8333        0.71575           0.38921\n",
       "Neg Pred Value                0.7240        0.83370           0.99856\n",
       "Prevalence                    0.3825        0.21953           0.03086\n",
       "Detection Rate                0.1593        0.06934           0.02953\n",
       "Detection Prevalence          0.1911        0.09688           0.07587\n",
       "Balanced Accuracy             0.6824        0.64029           0.95459\n",
       "                     Class: lifestyle Class: management Class: markets\n",
       "Sensitivity                  0.360656           0.30199        0.72833\n",
       "Specificity                  0.978063           0.97216        0.86214\n",
       "Pos Pred Value               0.313167           0.30460        0.33059\n",
       "Neg Pred Value               0.982194           0.97182        0.97139\n",
       "Prevalence                   0.026985           0.03882        0.08549\n",
       "Detection Rate               0.009732           0.01172        0.06226\n",
       "Detection Prevalence         0.031077           0.03849        0.18834\n",
       "Balanced Accuracy            0.669359           0.63707        0.79523\n",
       "                     Class: politics Class: society\n",
       "Sensitivity                   0.7642        0.68182\n",
       "Specificity                   0.8925        0.86807\n",
       "Pos Pred Value                0.6237        0.12443\n",
       "Neg Pred Value                0.9420        0.99002\n",
       "Prevalence                    0.1890        0.02676\n",
       "Detection Rate                0.1444        0.01825\n",
       "Detection Prevalence          0.2316        0.14665\n",
       "Balanced Accuracy             0.8284        0.77494"
      ]
     },
     "metadata": {},
     "output_type": "display_data"
    }
   ],
   "source": [
    "confusion1 = naive.bayes(df_corp, train_index1, test_index1)\n",
    "confusion1"
   ]
  },
  {
   "cell_type": "markdown",
   "id": "ea74d885",
   "metadata": {},
   "source": [
    "### Chinese Section"
   ]
  },
  {
   "cell_type": "code",
   "execution_count": 21,
   "id": "a8caff1c",
   "metadata": {
    "scrolled": true
   },
   "outputs": [
    {
     "name": "stdout",
     "output_type": "stream",
     "text": [
      "[1] \"-----------Document Term Matrix Generating\"\n",
      "<<DocumentTermMatrix (documents: 36077, terms: 444)>>\n",
      "Non-/sparse entries: 1115548/14902640\n",
      "Sparsity           : 93%\n",
      "Maximal term length: 9\n",
      "Weighting          : term frequency (tf)\n",
      "Sample             :\n",
      "         Terms\n",
      "Docs      不 大 公司 经济 美国 市场 他 我 银行 中国\n",
      "  1011946 22  8    4    8    3   15  4 28    1   73\n",
      "  1013609 15  5    3    9    4    1 13  6    3    6\n",
      "  1014006  8  5   24    2    6   14  4  2    3    1\n",
      "  1017412 21  6   67    1   15    0 36  7    1    1\n",
      "  1023366  6  2   32    3    4   17  3  7    0   58\n",
      "  1075495  7  9    1   32    7    6  5  0    5    6\n",
      "  1078838 10  8    7   12    1    1  5  5   75   21\n",
      "  1078840 10  4    1   21    2    1  1  0    9   39\n",
      "  1080040  6  3   64    2    2    7  2  0   15   32\n",
      "  1080351  5  5   23    0    2   10  8  0   14   17\n",
      "[1] \"business\"   \"Financials\" \"economy\"    \"markets\"    \"management\"\n",
      "[6] \"lifestyle\"  \"society\"    \"politics\"  \n",
      "[1] \"-----------Naive Bayes Model Building\"\n",
      "labels\n",
      "         0          1          2          3          4          5          6 \n",
      "0.38337445 0.02921529 0.21983535 0.08567786 0.03855642 0.02705325 0.02680378 \n",
      "         7 \n",
      "0.18948360 \n",
      "[1] \"-----------Testing\"\n",
      "[1] \"-----------Document Term Matrix Generating\"\n",
      "<<DocumentTermMatrix (documents: 9042, terms: 444)>>\n",
      "Non-/sparse entries: 8902/4005746\n",
      "Sparsity           : 100%\n",
      "Maximal term length: 9\n",
      "Weighting          : term frequency (tf)\n",
      "Sample             :\n",
      "         Terms\n",
      "Docs      <u+2022> 俄罗斯 经济体 领导人 人民币 投资者 委员会 消费者 执行官\n",
      "  1010976        0      0      0      0      0      4      0      0      0\n",
      "  1016205        0      0      7      0      5      2      0      2      1\n",
      "  1018320        0      0      0      0     27      0      0      0      0\n",
      "  1020575        0      0      0      0      0     24      0      3      0\n",
      "  1020799        0      5      0      0      0      0      0      2      3\n",
      "  1022333        0     55      0      0      0      5      0      5      0\n",
      "  1022625        0      1      1      1      0      0      0      3      0\n",
      "  1025100        0      8      3      0      0      9      0      0      0\n",
      "  1079725        0      0      1      0     24      5      0      0      0\n",
      "  1082731        0      1      0      4      6      1      0      2      0\n",
      "         Terms\n",
      "Docs      制造商\n",
      "  1010976      0\n",
      "  1016205      1\n",
      "  1018320      0\n",
      "  1020575      0\n",
      "  1020799     10\n",
      "  1022333      1\n",
      "  1022625      0\n",
      "  1025100      0\n",
      "  1079725      0\n",
      "  1082731      0\n",
      "[1] \"-----------Predicting\"\n",
      "[1] \"-----------Evaluating\"\n"
     ]
    },
    {
     "name": "stderr",
     "output_type": "stream",
     "text": [
      "Warning message in levels(reference) != levels(data):\n",
      "\"longer object length is not a multiple of shorter object length\"\n",
      "Warning message in confusionMatrix.default(data = evalu[, \"pred\"], reference = evalu[, :\n",
      "\"Levels are not in the same order for reference and data. Refactoring data to match.\"\n"
     ]
    }
   ],
   "source": [
    "naivebayes_zh1 = wholeprocess(df_corp_zh, train_index1, test_index1, 0.97, 'zh')"
   ]
  },
  {
   "cell_type": "code",
   "execution_count": 22,
   "id": "1fd63d4e",
   "metadata": {
    "scrolled": true
   },
   "outputs": [
    {
     "data": {
      "text/plain": [
       "Confusion Matrix and Statistics\n",
       "\n",
       "            Reference\n",
       "Prediction   business economy Financials lifestyle management markets politics\n",
       "  business       2935    1069        108       209        311     470      802\n",
       "  economy          53     472         59         3          4      40       48\n",
       "  Financials        1       2          2         0          0       0        0\n",
       "  lifestyle         0       0          0         0          0       0        0\n",
       "  management        0       0          0         0          0       0        0\n",
       "  markets         274     173         87         1          1     225       17\n",
       "  politics        196     269         23        31         35      38      842\n",
       "  society           0       0          0         0          0       0        0\n",
       "            Reference\n",
       "Prediction   society\n",
       "  business       202\n",
       "  economy         15\n",
       "  Financials       0\n",
       "  lifestyle        0\n",
       "  management       0\n",
       "  markets          2\n",
       "  politics        23\n",
       "  society          0\n",
       "\n",
       "Overall Statistics\n",
       "                                          \n",
       "               Accuracy : 0.495           \n",
       "                 95% CI : (0.4847, 0.5054)\n",
       "    No Information Rate : 0.3825          \n",
       "    P-Value [Acc > NIR] : < 2.2e-16       \n",
       "                                          \n",
       "                  Kappa : 0.2649          \n",
       "                                          \n",
       " Mcnemar's Test P-Value : NA              \n",
       "\n",
       "Statistics by Class:\n",
       "\n",
       "                     Class: business Class: economy Class: Financials\n",
       "Sensitivity                   0.8485        0.23778         0.0071685\n",
       "Specificity                   0.4320        0.96854         0.9996577\n",
       "Pos Pred Value                0.4807        0.68012         0.4000000\n",
       "Neg Pred Value                0.8215        0.81876         0.9693482\n",
       "Prevalence                    0.3825        0.21953         0.0308560\n",
       "Detection Rate                0.3246        0.05220         0.0002212\n",
       "Detection Prevalence          0.6753        0.07675         0.0005530\n",
       "Balanced Accuracy             0.6403        0.60316         0.5034131\n",
       "                     Class: lifestyle Class: management Class: markets\n",
       "Sensitivity                   0.00000           0.00000        0.29107\n",
       "Specificity                   1.00000           1.00000        0.93288\n",
       "Pos Pred Value                    NaN               NaN        0.28846\n",
       "Neg Pred Value                0.97301           0.96118        0.93367\n",
       "Prevalence                    0.02699           0.03882        0.08549\n",
       "Detection Rate                0.00000           0.00000        0.02488\n",
       "Detection Prevalence          0.00000           0.00000        0.08626\n",
       "Balanced Accuracy             0.50000           0.50000        0.61198\n",
       "                     Class: politics Class: society\n",
       "Sensitivity                  0.49269        0.00000\n",
       "Specificity                  0.91613        1.00000\n",
       "Pos Pred Value               0.57790            NaN\n",
       "Neg Pred Value               0.88570        0.97324\n",
       "Prevalence                   0.18901        0.02676\n",
       "Detection Rate               0.09312        0.00000\n",
       "Detection Prevalence         0.16114        0.00000\n",
       "Balanced Accuracy            0.70441        0.50000"
      ]
     },
     "metadata": {},
     "output_type": "display_data"
    }
   ],
   "source": [
    "naivebayes_zh1"
   ]
  },
  {
   "cell_type": "code",
   "execution_count": 88,
   "id": "4a2a9b80",
   "metadata": {},
   "outputs": [
    {
     "name": "stdout",
     "output_type": "stream",
     "text": [
      "<<DocumentTermMatrix (documents: 36077, terms: 444)>>\n",
      "Non-/sparse entries: 1115548/14902640\n",
      "Sparsity           : 93%\n",
      "Maximal term length: 9\n",
      "Weighting          : term frequency (tf)\n",
      "Sample             :\n",
      "         Terms\n",
      "Docs      不 大 公司 经济 美国 市场 他 我 银行 中国\n",
      "  1011946 22  8    4    8    3   15  4 28    1   73\n",
      "  1013609 15  5    3    9    4    1 13  6    3    6\n",
      "  1014006  8  5   24    2    6   14  4  2    3    1\n",
      "  1017412 21  6   67    1   15    0 36  7    1    1\n",
      "  1023366  6  2   32    3    4   17  3  7    0   58\n",
      "  1075495  7  9    1   32    7    6  5  0    5    6\n",
      "  1078838 10  8    7   12    1    1  5  5   75   21\n",
      "  1078840 10  4    1   21    2    1  1  0    9   39\n",
      "  1080040  6  3   64    2    2    7  2  0   15   32\n",
      "  1080351  5  5   23    0    2   10  8  0   14   17\n",
      "\n",
      "================================== Naive Bayes ================================== \n",
      " \n",
      "- Call: naive_bayes.formula(formula = topic ~ ., data = data_train[,      -1], laplace = 1) \n",
      "- Laplace: 1 \n",
      "- Classes: 8 \n",
      "- Samples: 36077 \n",
      "- Features: 444 \n",
      "- Conditional distributions: \n",
      "    - Gaussian: 444\n",
      "- Prior probabilities: \n",
      "    - business: 0.3834\n",
      "    - economy: 0.2198\n",
      "    - Financials: 0.0292\n",
      "    - lifestyle: 0.0271\n",
      "    - management: 0.0386\n",
      "    - markets: 0.0857\n",
      "    - politics: 0.1895\n",
      "    - society: 0.0268\n",
      "\n",
      "--------------------------------------------------------------------------------- \n"
     ]
    },
    {
     "name": "stderr",
     "output_type": "stream",
     "text": [
      "Warning message:\n",
      "\"predict.naive_bayes(): more features in the newdata are provided as there are probability tables in the object. Calculation is performed based on features to be found in the tables.\"\n"
     ]
    },
    {
     "data": {
      "text/plain": [
       "Confusion Matrix and Statistics\n",
       "\n",
       "            Reference\n",
       "Prediction   business economy Financials lifestyle management markets politics\n",
       "  business         69       7         12         0          0       3        0\n",
       "  economy           0       0          3         0          0       0        0\n",
       "  Financials        0       0          0         0          0       0        0\n",
       "  lifestyle        36      30          8         2          1       8        1\n",
       "  management       43      11          7         1          4       0        4\n",
       "  markets          23      43         30         0          0      40        1\n",
       "  politics         94      94         29         8          5      17      356\n",
       "  society        3194    1800        190       233        341     705     1347\n",
       "            Reference\n",
       "Prediction   society\n",
       "  business         0\n",
       "  economy          0\n",
       "  Financials       0\n",
       "  lifestyle        0\n",
       "  management       0\n",
       "  markets          0\n",
       "  politics         7\n",
       "  society        235\n",
       "\n",
       "Overall Statistics\n",
       "                                          \n",
       "               Accuracy : 0.0781          \n",
       "                 95% CI : (0.0726, 0.0838)\n",
       "    No Information Rate : 0.3825          \n",
       "    P-Value [Acc > NIR] : 1               \n",
       "                                          \n",
       "                  Kappa : 0.0373          \n",
       "                                          \n",
       " Mcnemar's Test P-Value : NA              \n",
       "\n",
       "Statistics by Class:\n",
       "\n",
       "                     Class: business Class: economy Class: Financials\n",
       "Sensitivity                 0.019948      0.0000000           0.00000\n",
       "Specificity                 0.996059      0.9995749           1.00000\n",
       "Pos Pred Value              0.758242      0.0000000               NaN\n",
       "Neg Pred Value              0.621271      0.7803961           0.96914\n",
       "Prevalence                  0.382548      0.2195311           0.03086\n",
       "Detection Rate              0.007631      0.0000000           0.00000\n",
       "Detection Prevalence        0.010064      0.0003318           0.00000\n",
       "Balanced Accuracy           0.508004      0.4997874           0.50000\n",
       "                     Class: lifestyle Class: management Class: markets\n",
       "Sensitivity                 0.0081967         0.0113960       0.051746\n",
       "Specificity                 0.9904524         0.9924059       0.988269\n",
       "Pos Pred Value              0.0232558         0.0571429       0.291971\n",
       "Neg Pred Value              0.9729790         0.9613241       0.917687\n",
       "Prevalence                  0.0269852         0.0388188       0.085490\n",
       "Detection Rate              0.0002212         0.0004424       0.004424\n",
       "Detection Prevalence        0.0095112         0.0077417       0.015152\n",
       "Balanced Accuracy           0.4993245         0.5019010       0.520008\n",
       "                     Class: politics Class: society\n",
       "Sensitivity                  0.20831        0.97107\n",
       "Specificity                  0.96536        0.11250\n",
       "Pos Pred Value               0.58361        0.02921\n",
       "Neg Pred Value               0.83954        0.99298\n",
       "Prevalence                   0.18901        0.02676\n",
       "Detection Rate               0.03937        0.02599\n",
       "Detection Prevalence         0.06746        0.88974\n",
       "Balanced Accuracy            0.58684        0.54179"
      ]
     },
     "metadata": {},
     "output_type": "display_data"
    }
   ],
   "source": [
    "confusion1 = naive.bayes(df_corp_zh, train_index1, test_index1)\n",
    "confusion1"
   ]
  },
  {
   "cell_type": "markdown",
   "id": "32836f65",
   "metadata": {},
   "source": [
    "# Experiment2: Dataset 2 (eight topics with balanced distribution)"
   ]
  },
  {
   "cell_type": "code",
   "execution_count": 89,
   "id": "f45e10bf",
   "metadata": {},
   "outputs": [],
   "source": [
    "train_index2 = read.csv('Experimental dataset/dataset2train.csv')\n",
    "test_index2 = read.csv('Experimental dataset/dataset2test.csv')\n",
    "colnames(train_index2) <- c(\"doc_id\", \"topic\")\n",
    "colnames(test_index2) <- c(\"doc_id\", \"topic\")"
   ]
  },
  {
   "cell_type": "markdown",
   "id": "6cd01deb",
   "metadata": {},
   "source": [
    "### English Section"
   ]
  },
  {
   "cell_type": "code",
   "execution_count": 24,
   "id": "47fc2a12",
   "metadata": {
    "scrolled": true
   },
   "outputs": [
    {
     "name": "stdout",
     "output_type": "stream",
     "text": [
      "[1] \"-----------Document Term Matrix Generating\"\n",
      "<<DocumentTermMatrix (documents: 7680, terms: 661)>>\n",
      "Non-/sparse entries: 371052/4705428\n",
      "Sparsity           : 93%\n",
      "Maximal term length: 14\n",
      "Weighting          : term frequency (tf)\n",
      "Sample             :\n",
      "         Terms\n",
      "Docs      bank cent china company have make market new say world\n",
      "  1010183    0    6     0       3   10    7      4   9   8     1\n",
      "  1014871   23    2     0       1    7    6      9   5  11     1\n",
      "  1016205    4    3     7       1    3    1      3   0   7     9\n",
      "  1017029    7   12     1       4    8    6     29   5  12    13\n",
      "  1018031    0    2    28      18   12    5     64   6   1     3\n",
      "  1019174   15    0    16       1   10    5      0   5   9     4\n",
      "  1020575   31    3     0       1    6    7     15   5   9     5\n",
      "  1024925    4    0     0      39   10    8      5   4   9     1\n",
      "  1089072    0   16     9       2   10    8      3   2  13     3\n",
      "  1090357    2    0     7       6   24    5     12   1   3     5\n",
      "[1] \"Financials\" \"economy\"    \"management\" \"business\"   \"lifestyle\" \n",
      "[6] \"markets\"    \"society\"    \"politics\"  \n",
      "[1] \"-----------Naive Bayes Model Building\"\n",
      "labels\n",
      "        0         1         2         3         4         5         6         7 \n",
      "0.1208333 0.1256510 0.1246094 0.1259115 0.1253906 0.1257813 0.1259115 0.1259115 \n",
      "[1] \"-----------Testing\"\n",
      "[1] \"-----------Document Term Matrix Generating\"\n",
      "<<DocumentTermMatrix (documents: 1930, terms: 661)>>\n",
      "Non-/sparse entries: 91001/1184729\n",
      "Sparsity           : 93%\n",
      "Maximal term length: 14\n",
      "Weighting          : term frequency (tf)\n",
      "Sample             :\n",
      "         Terms\n",
      "Docs      bank cent china company have make market new say world\n",
      "  1006271    0    3     0       0   13    8      0  11  16     0\n",
      "  1006298    0    2     0       0   11    6      0  11  14     0\n",
      "  1009364    1    0     0       1   11    7     32   8  10     0\n",
      "  1009860    0    1     2      31    3    0     12   0   4     6\n",
      "  1011173   16    0     0       2    4    7      1   0   3     0\n",
      "  1013785   34    1     0       1    9    0     19   2   8     1\n",
      "  1014006    4    2     0      20    5    3     17   3   6     2\n",
      "  1014194    0    0     2      18    5    6      9   6  12     5\n",
      "  1017942    7   22     2      10    5    2      6   5  12     0\n",
      "  1075495    6   14     4       1    3    1      7   3   8     1\n",
      "[1] \"-----------Predicting\"\n",
      "[1] \"-----------Evaluating\"\n"
     ]
    }
   ],
   "source": [
    "naivebayes_en2 = wholeprocess(df_corp, train_index2, test_index2, 0.97, 'en')"
   ]
  },
  {
   "cell_type": "code",
   "execution_count": 25,
   "id": "89ba66a0",
   "metadata": {
    "scrolled": true
   },
   "outputs": [
    {
     "data": {
      "text/plain": [
       "Confusion Matrix and Statistics\n",
       "\n",
       "            Reference\n",
       "Prediction   business economy Financials lifestyle management markets politics\n",
       "  business        160      10         35        10         13      24       11\n",
       "  economy          10     129         43         5          1      25       21\n",
       "  Financials       18      22         87         5         12      15        2\n",
       "  lifestyle        10       5         10       168         20       1        6\n",
       "  management        9       3         22        13        180       1        0\n",
       "  markets          18      26         30         7          0     174        0\n",
       "  politics         10      28          7         9          3       1      188\n",
       "  society           7      18          5        25         11       1       14\n",
       "            Reference\n",
       "Prediction   society\n",
       "  business         7\n",
       "  economy          6\n",
       "  Financials       2\n",
       "  lifestyle       31\n",
       "  management      16\n",
       "  markets          4\n",
       "  politics        34\n",
       "  society        142\n",
       "\n",
       "Overall Statistics\n",
       "                                          \n",
       "               Accuracy : 0.6363          \n",
       "                 95% CI : (0.6144, 0.6578)\n",
       "    No Information Rate : 0.1254          \n",
       "    P-Value [Acc > NIR] : < 2.2e-16       \n",
       "                                          \n",
       "                  Kappa : 0.5843          \n",
       "                                          \n",
       " Mcnemar's Test P-Value : 0.0005704       \n",
       "\n",
       "Statistics by Class:\n",
       "\n",
       "                     Class: business Class: economy Class: Financials\n",
       "Sensitivity                   0.6612        0.53527           0.36402\n",
       "Specificity                   0.9348        0.93428           0.95506\n",
       "Pos Pred Value                0.5926        0.53750           0.53374\n",
       "Neg Pred Value                0.9506        0.93373           0.91398\n",
       "Prevalence                    0.1254        0.12487           0.12383\n",
       "Detection Rate                0.0829        0.06684           0.04508\n",
       "Detection Prevalence          0.1399        0.12435           0.08446\n",
       "Balanced Accuracy             0.7980        0.73478           0.65954\n",
       "                     Class: lifestyle Class: management Class: markets\n",
       "Sensitivity                   0.69421           0.75000        0.71901\n",
       "Specificity                   0.95083           0.96213        0.94964\n",
       "Pos Pred Value                0.66932           0.73770        0.67181\n",
       "Neg Pred Value                0.95593           0.96441        0.95931\n",
       "Prevalence                    0.12539           0.12435        0.12539\n",
       "Detection Rate                0.08705           0.09326        0.09016\n",
       "Detection Prevalence          0.13005           0.12642        0.13420\n",
       "Balanced Accuracy             0.82252           0.85607        0.83433\n",
       "                     Class: politics Class: society\n",
       "Sensitivity                  0.77686        0.58678\n",
       "Specificity                  0.94550        0.95201\n",
       "Pos Pred Value               0.67143        0.63677\n",
       "Neg Pred Value               0.96727        0.94142\n",
       "Prevalence                   0.12539        0.12539\n",
       "Detection Rate               0.09741        0.07358\n",
       "Detection Prevalence         0.14508        0.11554\n",
       "Balanced Accuracy            0.86118        0.76940"
      ]
     },
     "metadata": {},
     "output_type": "display_data"
    }
   ],
   "source": [
    "naivebayes_en2"
   ]
  },
  {
   "cell_type": "code",
   "execution_count": 90,
   "id": "ccf30e42",
   "metadata": {},
   "outputs": [
    {
     "name": "stdout",
     "output_type": "stream",
     "text": [
      "<<DocumentTermMatrix (documents: 7680, terms: 660)>>\n",
      "Non-/sparse entries: 367184/4701616\n",
      "Sparsity           : 93%\n",
      "Maximal term length: 14\n",
      "Weighting          : term frequency (tf)\n",
      "Sample             :\n",
      "         Terms\n",
      "Docs      bank cent china company market mr new say us world\n",
      "  1010183    0    6     0       3      4  0   9   8  0     1\n",
      "  1014871   23    2     0       1      9  3   5  11  3     1\n",
      "  1016205    4    3     7       1      3  2   0   7 21     9\n",
      "  1017029    7   12     1       4     29  4   5  12 29    13\n",
      "  1018031    0    2    28      18     64  0   6   1  5     3\n",
      "  1019174   15    0    16       1      0 13   5   9  5     4\n",
      "  1020575   31    3     0       1     15  1   5   9  3     5\n",
      "  1024925    4    0     0      39      5  2   4   9  7     1\n",
      "  1089072    0   16     9       2      3  5   2  13  1     3\n",
      "  1090357    2    0     7       6     12  0   1   3  8     5\n",
      "\n",
      "================================== Naive Bayes ================================== \n",
      " \n",
      "- Call: naive_bayes.formula(formula = topic ~ ., data = data_train[,      -1], laplace = 1) \n",
      "- Laplace: 1 \n",
      "- Classes: 8 \n",
      "- Samples: 7680 \n",
      "- Features: 660 \n",
      "- Conditional distributions: \n",
      "    - Gaussian: 660\n",
      "- Prior probabilities: \n",
      "    - business: 0.1259\n",
      "    - economy: 0.1257\n",
      "    - Financials: 0.1208\n",
      "    - lifestyle: 0.1254\n",
      "    - management: 0.1246\n",
      "    - markets: 0.1258\n",
      "    - politics: 0.1259\n",
      "    - society: 0.1259\n",
      "\n",
      "--------------------------------------------------------------------------------- \n"
     ]
    },
    {
     "name": "stderr",
     "output_type": "stream",
     "text": [
      "Warning message:\n",
      "\"predict.naive_bayes(): more features in the newdata are provided as there are probability tables in the object. Calculation is performed based on features to be found in the tables.\"\n"
     ]
    },
    {
     "data": {
      "text/plain": [
       "Confusion Matrix and Statistics\n",
       "\n",
       "            Reference\n",
       "Prediction   business economy Financials lifestyle management markets politics\n",
       "  business         93      18          1        17         20      20        6\n",
       "  economy           8      49          0         4          0      17        9\n",
       "  Financials       11      17        229        22         18       6        1\n",
       "  lifestyle         4       3          3        79         10       0        5\n",
       "  management        6       3          5         7         85       0        2\n",
       "  markets          50      86          0         9          6     183        9\n",
       "  politics         48      45          1        33         21      12      190\n",
       "  society          22      20          0        71         80       4       20\n",
       "            Reference\n",
       "Prediction   society\n",
       "  business         7\n",
       "  economy          6\n",
       "  Financials       3\n",
       "  lifestyle       18\n",
       "  management       7\n",
       "  markets          4\n",
       "  politics        62\n",
       "  society        135\n",
       "\n",
       "Overall Statistics\n",
       "                                          \n",
       "               Accuracy : 0.5404          \n",
       "                 95% CI : (0.5179, 0.5628)\n",
       "    No Information Rate : 0.1254          \n",
       "    P-Value [Acc > NIR] : < 2.2e-16       \n",
       "                                          \n",
       "                  Kappa : 0.4747          \n",
       "                                          \n",
       " Mcnemar's Test P-Value : < 2.2e-16       \n",
       "\n",
       "Statistics by Class:\n",
       "\n",
       "                     Class: business Class: economy Class: Financials\n",
       "Sensitivity                  0.38430        0.20332            0.9582\n",
       "Specificity                  0.94727        0.97395            0.9539\n",
       "Pos Pred Value               0.51099        0.52688            0.7459\n",
       "Neg Pred Value               0.91476        0.89548            0.9938\n",
       "Prevalence                   0.12539        0.12487            0.1238\n",
       "Detection Rate               0.04819        0.02539            0.1187\n",
       "Detection Prevalence         0.09430        0.04819            0.1591\n",
       "Balanced Accuracy            0.66579        0.58863            0.9560\n",
       "                     Class: lifestyle Class: management Class: markets\n",
       "Sensitivity                   0.32645           0.35417        0.75620\n",
       "Specificity                   0.97453           0.98225        0.90284\n",
       "Pos Pred Value                0.64754           0.73913        0.52738\n",
       "Neg Pred Value                0.90985           0.91460        0.96273\n",
       "Prevalence                    0.12539           0.12435        0.12539\n",
       "Detection Rate                0.04093           0.04404        0.09482\n",
       "Detection Prevalence          0.06321           0.05959        0.17979\n",
       "Balanced Accuracy             0.65049           0.66821        0.82952\n",
       "                     Class: politics Class: society\n",
       "Sensitivity                  0.78512        0.55785\n",
       "Specificity                  0.86848        0.87145\n",
       "Pos Pred Value               0.46117        0.38352\n",
       "Neg Pred Value               0.96574        0.93219\n",
       "Prevalence                   0.12539        0.12539\n",
       "Detection Rate               0.09845        0.06995\n",
       "Detection Prevalence         0.21347        0.18238\n",
       "Balanced Accuracy            0.82680        0.71465"
      ]
     },
     "metadata": {},
     "output_type": "display_data"
    }
   ],
   "source": [
    "confusion2 = naive.bayes(df_corp, train_index2, test_index2)\n",
    "confusion2"
   ]
  },
  {
   "cell_type": "markdown",
   "id": "66226c42",
   "metadata": {},
   "source": [
    "### Chinese Section"
   ]
  },
  {
   "cell_type": "code",
   "execution_count": 26,
   "id": "f184017f",
   "metadata": {
    "scrolled": true
   },
   "outputs": [
    {
     "name": "stdout",
     "output_type": "stream",
     "text": [
      "[1] \"-----------Document Term Matrix Generating\"\n",
      "<<DocumentTermMatrix (documents: 7680, terms: 601)>>\n",
      "Non-/sparse entries: 329352/4286328\n",
      "Sparsity           : 93%\n",
      "Maximal term length: 9\n",
      "Weighting          : term frequency (tf)\n",
      "Sample             :\n",
      "         Terms\n",
      "Docs      不 公司 经济 美国 人 市场 他 我 我们 中国\n",
      "  1007671 14    1   14    1  3    0 42  4    7    4\n",
      "  1010183  7    5    1    1  2    5  6  0    3    0\n",
      "  1011946 22    4    8    3 15   15  4 28    5   73\n",
      "  1014871  7    5    0    3  8    9  8  0    8    0\n",
      "  1016205 13    1   18   21  6    3  9  1    2   11\n",
      "  1020575  9    3    2   10  3   20  1  0    6    0\n",
      "  1024925  9   20    3    7  4    6  1  1    1    0\n",
      "  1080040  6   64    2    2  2    7  2  0    1   32\n",
      "  1089072  7    3   16    0  9    2  8  7    2   29\n",
      "  1090357 12    5    7    8 12   13 13 21   32   10\n",
      "[1] \"Financials\" \"economy\"    \"management\" \"business\"   \"lifestyle\" \n",
      "[6] \"markets\"    \"society\"    \"politics\"  \n",
      "[1] \"-----------Naive Bayes Model Building\"\n",
      "labels\n",
      "        0         1         2         3         4         5         6         7 \n",
      "0.1208333 0.1256510 0.1246094 0.1259115 0.1253906 0.1257813 0.1259115 0.1259115 \n",
      "[1] \"-----------Testing\"\n",
      "[1] \"-----------Document Term Matrix Generating\"\n",
      "<<DocumentTermMatrix (documents: 1930, terms: 601)>>\n",
      "Non-/sparse entries: 2408/1157522\n",
      "Sparsity           : 100%\n",
      "Maximal term length: 9\n",
      "Weighting          : term frequency (tf)\n",
      "Sample             :\n",
      "         Terms\n",
      "Docs      <u+2022> 俄罗斯 房地产 经济体 经济学家 人民币 商学院 投资者 委员会\n",
      "  1007294        0      0     12      0        1      0      0     11      0\n",
      "  1009241        0      0      0      0        0      0     41      0      0\n",
      "  1010976        0      0     19      0        0      0      0      4      0\n",
      "  1012461        0     17      0      1        0      0      0      2      0\n",
      "  1021732        0      0     15      0        0      0      0      1      0\n",
      "  1024737        1      0      1      0        1     17      0      0      0\n",
      "  1073418        0      0      0      0        1     25      0      2      0\n",
      "  1075495        3      0      1      1        5      2      0      1      0\n",
      "  1076526        1      0      0      0        0     27      0      7      0\n",
      "  1080018        0      0      0      0        0     13      0      3      0\n",
      "         Terms\n",
      "Docs      执行官\n",
      "  1007294      0\n",
      "  1009241      0\n",
      "  1010976      0\n",
      "  1012461      1\n",
      "  1021732      2\n",
      "  1024737      0\n",
      "  1073418      0\n",
      "  1075495      0\n",
      "  1076526      1\n",
      "  1080018      0\n",
      "[1] \"-----------Predicting\"\n",
      "[1] \"-----------Evaluating\"\n"
     ]
    }
   ],
   "source": [
    "naivebayes_zh2 = wholeprocess(df_corp_zh, train_index2, test_index2, 0.97, 'zh')"
   ]
  },
  {
   "cell_type": "code",
   "execution_count": 27,
   "id": "9a1fad43",
   "metadata": {
    "scrolled": true
   },
   "outputs": [
    {
     "data": {
      "text/plain": [
       "Confusion Matrix and Statistics\n",
       "\n",
       "            Reference\n",
       "Prediction   business economy Financials lifestyle management markets politics\n",
       "  business         91      33         49        55         71      43       34\n",
       "  economy           3      49         30         3          6      12        5\n",
       "  Financials        6      11         18         2          1       4        1\n",
       "  lifestyle        16       6          2        25          1       2        3\n",
       "  management        3       2         11         9         77       0        5\n",
       "  markets          45      35         98         8          7     127        8\n",
       "  politics         48      77         29        94         51      37      161\n",
       "  society          30      28          2        46         26      17       25\n",
       "            Reference\n",
       "Prediction   society\n",
       "  business        64\n",
       "  economy         11\n",
       "  Financials       1\n",
       "  lifestyle        3\n",
       "  management       9\n",
       "  markets         11\n",
       "  politics        95\n",
       "  society         48\n",
       "\n",
       "Overall Statistics\n",
       "                                        \n",
       "               Accuracy : 0.3088        \n",
       "                 95% CI : (0.2882, 0.33)\n",
       "    No Information Rate : 0.1254        \n",
       "    P-Value [Acc > NIR] : < 2.2e-16     \n",
       "                                        \n",
       "                  Kappa : 0.2098        \n",
       "                                        \n",
       " Mcnemar's Test P-Value : < 2.2e-16     \n",
       "\n",
       "Statistics by Class:\n",
       "\n",
       "                     Class: business Class: economy Class: Financials\n",
       "Sensitivity                  0.37603        0.20332          0.075314\n",
       "Specificity                  0.79325        0.95856          0.984624\n",
       "Pos Pred Value               0.20682        0.41176          0.409091\n",
       "Neg Pred Value               0.89866        0.89398          0.882821\n",
       "Prevalence                   0.12539        0.12487          0.123834\n",
       "Detection Rate               0.04715        0.02539          0.009326\n",
       "Detection Prevalence         0.22798        0.06166          0.022798\n",
       "Balanced Accuracy            0.58464        0.58094          0.529969\n",
       "                     Class: lifestyle Class: management Class: markets\n",
       "Sensitivity                   0.10331            0.3208         0.5248\n",
       "Specificity                   0.98045            0.9769         0.8744\n",
       "Pos Pred Value                0.43103            0.6638         0.3746\n",
       "Neg Pred Value                0.88408            0.9101         0.9277\n",
       "Prevalence                    0.12539            0.1244         0.1254\n",
       "Detection Rate                0.01295            0.0399         0.0658\n",
       "Detection Prevalence          0.03005            0.0601         0.1756\n",
       "Balanced Accuracy             0.54188            0.6489         0.6996\n",
       "                     Class: politics Class: society\n",
       "Sensitivity                  0.66529        0.19835\n",
       "Specificity                  0.74467        0.89692\n",
       "Pos Pred Value               0.27196        0.21622\n",
       "Neg Pred Value               0.93946        0.88642\n",
       "Prevalence                   0.12539        0.12539\n",
       "Detection Rate               0.08342        0.02487\n",
       "Detection Prevalence         0.30674        0.11503\n",
       "Balanced Accuracy            0.70498        0.54763"
      ]
     },
     "metadata": {},
     "output_type": "display_data"
    }
   ],
   "source": [
    "naivebayes_zh2"
   ]
  },
  {
   "cell_type": "markdown",
   "id": "afadafa4",
   "metadata": {},
   "source": [
    "# Experiment3: Dataset 3 (four topics no balance)"
   ]
  },
  {
   "cell_type": "code",
   "execution_count": 91,
   "id": "7e56590c",
   "metadata": {},
   "outputs": [],
   "source": [
    "train_index3 = read.csv('Experimental dataset/dataset3train.csv')\n",
    "test_index3 = read.csv('Experimental dataset/dataset3test.csv')\n",
    "colnames(train_index3) <- c(\"doc_id\", \"topic\")\n",
    "colnames(test_index3) <- c(\"doc_id\", \"topic\")"
   ]
  },
  {
   "cell_type": "markdown",
   "id": "53d99dcf",
   "metadata": {},
   "source": [
    "### English Section"
   ]
  },
  {
   "cell_type": "code",
   "execution_count": 29,
   "id": "b1d172b9",
   "metadata": {
    "scrolled": true
   },
   "outputs": [
    {
     "name": "stdout",
     "output_type": "stream",
     "text": [
      "[1] \"-----------Document Term Matrix Generating\"\n",
      "<<DocumentTermMatrix (documents: 31718, terms: 453)>>\n",
      "Non-/sparse entries: 989532/13378722\n",
      "Sparsity           : 93%\n",
      "Maximal term length: 14\n",
      "Weighting          : term frequency (tf)\n",
      "Sample             :\n",
      "         Terms\n",
      "Docs      bank cent china chinese company have market new say world\n",
      "  1017328    4    2     0       0      17    3      5   1  12     5\n",
      "  1017412    1    1     0       1      30   19      0   3  31     1\n",
      "  1020531    2    7     2       0       5    6      3   4  12     3\n",
      "  1021616    3    1    30      14      22   11      6  15  12     5\n",
      "  1023366    0    6    43      21      19    8     13   0   8     3\n",
      "  1078153    4    6    22      18      20    7      2   1   7     6\n",
      "  1078838   70   19     7       5       8    3      1   3  13     1\n",
      "  1079314    1    0    11       7       4    5      4   4  10     4\n",
      "  1080351    7    9    10       4      19   13     11   4  21     3\n",
      "  1082731    0    5    15       2      13   12      2   2  13     1\n",
      "[1] \"business\" \"economy\"  \"markets\"  \"politics\"\n",
      "[1] \"-----------Naive Bayes Model Building\"\n",
      "labels\n",
      "         0          1          2          3 \n",
      "0.43634529 0.25064632 0.09748408 0.21552431 \n",
      "[1] \"-----------Testing\"\n",
      "[1] \"-----------Document Term Matrix Generating\"\n",
      "<<DocumentTermMatrix (documents: 7930, terms: 453)>>\n",
      "Non-/sparse entries: 244731/3347559\n",
      "Sparsity           : 93%\n",
      "Maximal term length: 14\n",
      "Weighting          : term frequency (tf)\n",
      "Sample             :\n",
      "         Terms\n",
      "Docs      bank cent china chinese company have market new say world\n",
      "  1010880    0    0    12      18      14   10      2   3  19     1\n",
      "  1013609    1   14     5       1       3    5      1   3  20     2\n",
      "  1018649    0    0    27      13       9   11      1   3   1     2\n",
      "  1023318    8    8     0       0       1    6      3   4   1     7\n",
      "  1024593    0    0     0       0       2    9     11   2   0     1\n",
      "  1025018   16    6     0       0       0    3      5   2  10     4\n",
      "  1067961    0    5     6       3       7    4      3   4  11     7\n",
      "  1068025    0    3    30       5      19    9      2   5   0     1\n",
      "  1078840    6   22    14       1       0    7      1   0   2     2\n",
      "  1081802    0   21    14      16       6    3      4   4  11     4\n",
      "[1] \"-----------Predicting\"\n",
      "[1] \"-----------Evaluating\"\n"
     ]
    }
   ],
   "source": [
    "naivebayes_en3 = wholeprocess(df_corp, train_index3, test_index3, 0.97, 'en')"
   ]
  },
  {
   "cell_type": "code",
   "execution_count": 30,
   "id": "d56e30c0",
   "metadata": {
    "scrolled": true
   },
   "outputs": [
    {
     "data": {
      "text/plain": [
       "Confusion Matrix and Statistics\n",
       "\n",
       "          Reference\n",
       "Prediction business economy markets politics\n",
       "  business     2750     254     118       90\n",
       "  economy       262    1296     112      125\n",
       "  markets       232     168     528        9\n",
       "  politics      216     270      15     1485\n",
       "\n",
       "Overall Statistics\n",
       "                                          \n",
       "               Accuracy : 0.7641          \n",
       "                 95% CI : (0.7546, 0.7734)\n",
       "    No Information Rate : 0.4363          \n",
       "    P-Value [Acc > NIR] : < 2.2e-16       \n",
       "                                          \n",
       "                  Kappa : 0.6634          \n",
       "                                          \n",
       " Mcnemar's Test P-Value : < 2.2e-16       \n",
       "\n",
       "Statistics by Class:\n",
       "\n",
       "                     Class: business Class: economy Class: markets\n",
       "Sensitivity                   0.7948         0.6519        0.68305\n",
       "Specificity                   0.8966         0.9160        0.94285\n",
       "Pos Pred Value                0.8562         0.7220        0.56350\n",
       "Neg Pred Value                0.8495         0.8872        0.96496\n",
       "Prevalence                    0.4363         0.2507        0.09748\n",
       "Detection Rate                0.3468         0.1634        0.06658\n",
       "Detection Prevalence          0.4050         0.2264        0.11816\n",
       "Balanced Accuracy             0.8457         0.7840        0.81295\n",
       "                     Class: politics\n",
       "Sensitivity                   0.8689\n",
       "Specificity                   0.9195\n",
       "Pos Pred Value                0.7477\n",
       "Neg Pred Value                0.9623\n",
       "Prevalence                    0.2155\n",
       "Detection Rate                0.1873\n",
       "Detection Prevalence          0.2504\n",
       "Balanced Accuracy             0.8942"
      ]
     },
     "metadata": {},
     "output_type": "display_data"
    }
   ],
   "source": [
    "naivebayes_en3"
   ]
  },
  {
   "cell_type": "code",
   "execution_count": 93,
   "id": "6fea5717",
   "metadata": {
    "scrolled": true
   },
   "outputs": [
    {
     "name": "stdout",
     "output_type": "stream",
     "text": [
      "<<DocumentTermMatrix (documents: 31718, terms: 452)>>\n",
      "Non-/sparse entries: 989770/13346766\n",
      "Sparsity           : 93%\n",
      "Maximal term length: 14\n",
      "Weighting          : term frequency (tf)\n",
      "Sample             :\n",
      "         Terms\n",
      "Docs      bank cent china chinese company market mr say us world\n",
      "  1017412    1    1     0       1      30      0 26  31  7     1\n",
      "  1018594    3    4    25      11       8      3  8  11  7     8\n",
      "  1020531    2    7     2       0       5      3  4  12  1     3\n",
      "  1021616    3    1    30      14      22      6  0  12  1     5\n",
      "  1023366    0    6    43      21      19     13  4   8  4     3\n",
      "  1078153    4    6    22      18      20      2 11   7  4     6\n",
      "  1078838   70   19     7       5       8      1  9  13  1     1\n",
      "  1079314    1    0    11       7       4      4  6  10  2     4\n",
      "  1080351    7    9    10       4      19     11  9  21  1     3\n",
      "  1082731    0    5    15       2      13      2  0  13  2     1\n",
      "\n",
      "================================== Naive Bayes ================================== \n",
      " \n",
      "- Call: naive_bayes.formula(formula = topic ~ ., data = data_train[,      -1], laplace = 1) \n",
      "- Laplace: 1 \n",
      "- Classes: 4 \n",
      "- Samples: 31718 \n",
      "- Features: 452 \n",
      "- Conditional distributions: \n",
      "    - Gaussian: 452\n",
      "- Prior probabilities: \n",
      "    - business: 0.4363\n",
      "    - economy: 0.2506\n",
      "    - markets: 0.0975\n",
      "    - politics: 0.2155\n",
      "\n",
      "--------------------------------------------------------------------------------- \n"
     ]
    },
    {
     "name": "stderr",
     "output_type": "stream",
     "text": [
      "Warning message:\n",
      "\"predict.naive_bayes(): more features in the newdata are provided as there are probability tables in the object. Calculation is performed based on features to be found in the tables.\"\n"
     ]
    },
    {
     "data": {
      "text/plain": [
       "Confusion Matrix and Statistics\n",
       "\n",
       "          Reference\n",
       "Prediction business economy markets politics\n",
       "  business     1957     194      90       65\n",
       "  economy       242     806      52      101\n",
       "  markets       547     556     591       32\n",
       "  politics      714     432      40     1511\n",
       "\n",
       "Overall Statistics\n",
       "                                          \n",
       "               Accuracy : 0.6135          \n",
       "                 95% CI : (0.6027, 0.6242)\n",
       "    No Information Rate : 0.4363          \n",
       "    P-Value [Acc > NIR] : < 2.2e-16       \n",
       "                                          \n",
       "                  Kappa : 0.4781          \n",
       "                                          \n",
       " Mcnemar's Test P-Value : < 2.2e-16       \n",
       "\n",
       "Statistics by Class:\n",
       "\n",
       "                     Class: business Class: economy Class: markets\n",
       "Sensitivity                   0.5656         0.4054        0.76455\n",
       "Specificity                   0.9219         0.9335        0.84141\n",
       "Pos Pred Value                0.8487         0.6711        0.34241\n",
       "Neg Pred Value                0.7328         0.8243        0.97066\n",
       "Prevalence                    0.4363         0.2507        0.09748\n",
       "Detection Rate                0.2468         0.1016        0.07453\n",
       "Detection Prevalence          0.2908         0.1515        0.21765\n",
       "Balanced Accuracy             0.7438         0.6695        0.80298\n",
       "                     Class: politics\n",
       "Sensitivity                   0.8841\n",
       "Specificity                   0.8094\n",
       "Pos Pred Value                0.5603\n",
       "Neg Pred Value                0.9622\n",
       "Prevalence                    0.2155\n",
       "Detection Rate                0.1905\n",
       "Detection Prevalence          0.3401\n",
       "Balanced Accuracy             0.8467"
      ]
     },
     "metadata": {},
     "output_type": "display_data"
    }
   ],
   "source": [
    "confusion3 = naive.bayes(df_corp, train_index3, test_index3)\n",
    "confusion3"
   ]
  },
  {
   "cell_type": "markdown",
   "id": "912bac3a",
   "metadata": {},
   "source": [
    "### Chinese Section"
   ]
  },
  {
   "cell_type": "code",
   "execution_count": 31,
   "id": "5f90464a",
   "metadata": {
    "scrolled": true
   },
   "outputs": [
    {
     "name": "stdout",
     "output_type": "stream",
     "text": [
      "[1] \"-----------Document Term Matrix Generating\"\n",
      "<<DocumentTermMatrix (documents: 31718, terms: 409)>>\n",
      "Non-/sparse entries: 893313/12079349\n",
      "Sparsity           : 93%\n",
      "Maximal term length: 9\n",
      "Weighting          : term frequency (tf)\n",
      "Sample             :\n",
      "         Terms\n",
      "Docs      不 公司 经济 美国 其 市场 他 银行 政府 中国\n",
      "  1012631  5    3    1    0  8    9  5   65    0    1\n",
      "  1017384  9    3   15    4  1    2  4    0   10   42\n",
      "  1017412 21   67    1   15 21    0 36    1   11    1\n",
      "  1018594  1    3   27   10  6    1 10    4    6   54\n",
      "  1020531  8   13   10    4  6    4 15    3   15    2\n",
      "  1023366  6   32    3    4  4   17  3    0    2   58\n",
      "  1078153  5   15    2    5  2    2  5    4    0   71\n",
      "  1078838 10    7   12    1 10    1  5   75    4   21\n",
      "  1080351  5   23    0    2  9   10  8   14    4   17\n",
      "  1082731 14    2   19    2  4    2 22    0    3   42\n",
      "[1] \"business\" \"economy\"  \"markets\"  \"politics\"\n",
      "[1] \"-----------Naive Bayes Model Building\"\n",
      "labels\n",
      "         0          1          2          3 \n",
      "0.43634529 0.25064632 0.09748408 0.21552431 \n",
      "[1] \"-----------Testing\"\n",
      "[1] \"-----------Document Term Matrix Generating\"\n",
      "<<DocumentTermMatrix (documents: 7930, terms: 409)>>\n",
      "Non-/sparse entries: 8108/3235262\n",
      "Sparsity           : 100%\n",
      "Maximal term length: 9\n",
      "Weighting          : term frequency (tf)\n",
      "Sample             :\n",
      "         Terms\n",
      "Docs      <u+2022> 俄罗斯 经济体 领导人 人民币 投资者 委员会 消费者 执行官\n",
      "  1008407        0     16      0      0      0      0      0      0      2\n",
      "  1017880        0      6      0      0      0      0      0      5      1\n",
      "  1020799        0      5      0      0      0      0      0      2      3\n",
      "  1021265        0      0      0      0      0     16      0      0      0\n",
      "  1021692        0      0      0      0      0      1      0     16      0\n",
      "  1022424        0      7      3      0      0      0      0     11      3\n",
      "  1079725        0      0      1      0     24      5      0      0      0\n",
      "  1081802        0      0      0      0      2      0      0     15      0\n",
      "  1082738        0      0      1      0      7      0      0      0      0\n",
      "  1084131        0      0      0      0      9      6      0      0      0\n",
      "         Terms\n",
      "Docs      制造商\n",
      "  1008407      0\n",
      "  1017880      4\n",
      "  1020799     10\n",
      "  1021265      0\n",
      "  1021692      0\n",
      "  1022424      1\n",
      "  1079725      0\n",
      "  1081802      1\n",
      "  1082738      0\n",
      "  1084131      0\n",
      "[1] \"-----------Predicting\"\n",
      "[1] \"-----------Evaluating\"\n"
     ]
    }
   ],
   "source": [
    "naivebayes_zh3 = wholeprocess(df_corp_zh, train_index3, test_index3, 0.97, 'zh')"
   ]
  },
  {
   "cell_type": "code",
   "execution_count": 32,
   "id": "aedbc948",
   "metadata": {
    "scrolled": true
   },
   "outputs": [
    {
     "data": {
      "text/plain": [
       "Confusion Matrix and Statistics\n",
       "\n",
       "          Reference\n",
       "Prediction business economy markets politics\n",
       "  business     2921     976     441      792\n",
       "  economy        86     568      70       45\n",
       "  markets       243     144     222        5\n",
       "  politics      210     300      40      867\n",
       "\n",
       "Overall Statistics\n",
       "                                          \n",
       "               Accuracy : 0.5773          \n",
       "                 95% CI : (0.5663, 0.5882)\n",
       "    No Information Rate : 0.4363          \n",
       "    P-Value [Acc > NIR] : < 2.2e-16       \n",
       "                                          \n",
       "                  Kappa : 0.3471          \n",
       "                                          \n",
       " Mcnemar's Test P-Value : < 2.2e-16       \n",
       "\n",
       "Statistics by Class:\n",
       "\n",
       "                     Class: business Class: economy Class: markets\n",
       "Sensitivity                   0.8442        0.28571        0.28719\n",
       "Specificity                   0.5058        0.96617        0.94523\n",
       "Pos Pred Value                0.5694        0.73862        0.36156\n",
       "Neg Pred Value                0.8075        0.80170        0.92469\n",
       "Prevalence                    0.4363        0.25069        0.09748\n",
       "Detection Rate                0.3683        0.07163        0.02799\n",
       "Detection Prevalence          0.6469        0.09697        0.07743\n",
       "Balanced Accuracy             0.6750        0.62594        0.61621\n",
       "                     Class: politics\n",
       "Sensitivity                   0.5073\n",
       "Specificity                   0.9116\n",
       "Pos Pred Value                0.6119\n",
       "Neg Pred Value                0.8707\n",
       "Prevalence                    0.2155\n",
       "Detection Rate                0.1093\n",
       "Detection Prevalence          0.1787\n",
       "Balanced Accuracy             0.7095"
      ]
     },
     "metadata": {},
     "output_type": "display_data"
    }
   ],
   "source": [
    "naivebayes_zh3"
   ]
  },
  {
   "cell_type": "markdown",
   "id": "ad807675",
   "metadata": {},
   "source": [
    "# Experiment4: Dataset 4 (four topics with balanced distribution)"
   ]
  },
  {
   "cell_type": "code",
   "execution_count": 94,
   "id": "3bbaafca",
   "metadata": {},
   "outputs": [],
   "source": [
    "train_index4 = read.csv('Experimental dataset/dataset4train.csv')\n",
    "test_index4 = read.csv('Experimental dataset/dataset4test.csv')\n",
    "colnames(train_index4) <- c(\"doc_id\", \"topic\")\n",
    "colnames(test_index4) <- c(\"doc_id\", \"topic\")"
   ]
  },
  {
   "cell_type": "markdown",
   "id": "62e5d503",
   "metadata": {},
   "source": [
    "### English Section"
   ]
  },
  {
   "cell_type": "code",
   "execution_count": 34,
   "id": "1808cc32",
   "metadata": {
    "scrolled": true
   },
   "outputs": [
    {
     "name": "stdout",
     "output_type": "stream",
     "text": [
      "[1] \"-----------Document Term Matrix Generating\"\n",
      "<<DocumentTermMatrix (documents: 12368, terms: 453)>>\n",
      "Non-/sparse entries: 390550/5212154\n",
      "Sparsity           : 93%\n",
      "Maximal term length: 14\n",
      "Weighting          : term frequency (tf)\n",
      "Sample             :\n",
      "         Terms\n",
      "Docs      bank cent china chinese company have market new say world\n",
      "  1007733    0   11     0       0       4    4      3   0  16     1\n",
      "  1014503    8    0     0       1       0   15     16   6   6     3\n",
      "  1017384    1    0    31      11       2    7      2  11   2     9\n",
      "  1017412    1    1     0       1      30   19      0   3  31     1\n",
      "  1018649    0    0    27      13       9   11      1   3   1     2\n",
      "  1020531    2    7     2       0       5    6      3   4  12     3\n",
      "  1021081   13    0     0       0       0   10      6   3   1     4\n",
      "  1078840    6   22    14       1       0    7      1   0   2     2\n",
      "  1083754    0    3    10       8      25    4      2   5  16     0\n",
      "  1084558   18   17     1       1       0    9      3   0   7     3\n",
      "[1] \"business\" \"economy\"  \"markets\"  \"politics\"\n",
      "[1] \"-----------Naive Bayes Model Building\"\n",
      "labels\n",
      "   0    1    2    3 \n",
      "0.25 0.25 0.25 0.25 \n",
      "[1] \"-----------Testing\"\n",
      "[1] \"-----------Document Term Matrix Generating\"\n",
      "<<DocumentTermMatrix (documents: 3092, terms: 453)>>\n",
      "Non-/sparse entries: 98034/1302642\n",
      "Sparsity           : 93%\n",
      "Maximal term length: 14\n",
      "Weighting          : term frequency (tf)\n",
      "Sample             :\n",
      "         Terms\n",
      "Docs      bank cent china chinese company have market new say world\n",
      "  1006138    3    4    16      11      17    5      4   0   6     2\n",
      "  1011218    1    3     7       0       1    0     18   0  11     1\n",
      "  1012372    0   14    27      14       4    1      3   1   0     3\n",
      "  1014312    4    1     1       0       0    4      2   0   6     1\n",
      "  1014505    7    8    14       4       0    6      7   2  12     2\n",
      "  1024775    5    8    20      11       0    2      1   3   0     7\n",
      "  1025095    1    3     0       0       2    1     14   3   2     2\n",
      "  1075475    0    1    15      17       5    5     13   1   3     1\n",
      "  1078838   70   19     7       5       8    3      1   3  13     1\n",
      "  1082738    4   16     7       9       1    6      1   1   4     1\n",
      "[1] \"-----------Predicting\"\n",
      "[1] \"-----------Evaluating\"\n"
     ]
    }
   ],
   "source": [
    "naivebayes_en4 = wholeprocess(df_corp, train_index4, test_index4, 0.97, 'en')"
   ]
  },
  {
   "cell_type": "code",
   "execution_count": 35,
   "id": "70c37b7a",
   "metadata": {
    "scrolled": true
   },
   "outputs": [
    {
     "data": {
      "text/plain": [
       "Confusion Matrix and Statistics\n",
       "\n",
       "          Reference\n",
       "Prediction business economy markets politics\n",
       "  business      537     114     100       44\n",
       "  economy        73     485      90       53\n",
       "  markets        86      76     572        6\n",
       "  politics       77      98      11      670\n",
       "\n",
       "Overall Statistics\n",
       "                                          \n",
       "               Accuracy : 0.7322          \n",
       "                 95% CI : (0.7162, 0.7478)\n",
       "    No Information Rate : 0.25            \n",
       "    P-Value [Acc > NIR] : < 2.2e-16       \n",
       "                                          \n",
       "                  Kappa : 0.6429          \n",
       "                                          \n",
       " Mcnemar's Test P-Value : 4.112e-06       \n",
       "\n",
       "Statistics by Class:\n",
       "\n",
       "                     Class: business Class: economy Class: markets\n",
       "Sensitivity                   0.6947         0.6274         0.7400\n",
       "Specificity                   0.8887         0.9069         0.9276\n",
       "Pos Pred Value                0.6755         0.6919         0.7730\n",
       "Neg Pred Value                0.8973         0.8795         0.9145\n",
       "Prevalence                    0.2500         0.2500         0.2500\n",
       "Detection Rate                0.1737         0.1569         0.1850\n",
       "Detection Prevalence          0.2571         0.2267         0.2393\n",
       "Balanced Accuracy             0.7917         0.7671         0.8338\n",
       "                     Class: politics\n",
       "Sensitivity                   0.8668\n",
       "Specificity                   0.9198\n",
       "Pos Pred Value                0.7827\n",
       "Neg Pred Value                0.9539\n",
       "Prevalence                    0.2500\n",
       "Detection Rate                0.2167\n",
       "Detection Prevalence          0.2768\n",
       "Balanced Accuracy             0.8933"
      ]
     },
     "metadata": {},
     "output_type": "display_data"
    }
   ],
   "source": [
    "naivebayes_en4"
   ]
  },
  {
   "cell_type": "code",
   "execution_count": 96,
   "id": "0360c88f",
   "metadata": {
    "scrolled": true
   },
   "outputs": [
    {
     "name": "stdout",
     "output_type": "stream",
     "text": [
      "<<DocumentTermMatrix (documents: 12368, terms: 452)>>\n",
      "Non-/sparse entries: 390394/5199942\n",
      "Sparsity           : 93%\n",
      "Maximal term length: 14\n",
      "Weighting          : term frequency (tf)\n",
      "Sample             :\n",
      "         Terms\n",
      "Docs      bank cent china chinese company market mr say us world\n",
      "  1007733    0   11     0       0       4      3 13  16  8     1\n",
      "  1014503    8    0     0       1       0     16  0   6  2     3\n",
      "  1017384    1    0    31      11       2      2  8   2  2     9\n",
      "  1017412    1    1     0       1      30      0 26  31  7     1\n",
      "  1018649    0    0    27      13       9      1  0   1  4     2\n",
      "  1020531    2    7     2       0       5      3  4  12  1     3\n",
      "  1021081   13    0     0       0       0      6  0   1  6     4\n",
      "  1078840    6   22    14       1       0      1  1   2  3     2\n",
      "  1083754    0    3    10       8      25      2  0  16  3     0\n",
      "  1084558   18   17     1       1       0      3  8   7  0     3\n",
      "\n",
      "================================== Naive Bayes ================================== \n",
      " \n",
      "- Call: naive_bayes.formula(formula = topic ~ ., data = data_train[,      -1], laplace = 1) \n",
      "- Laplace: 1 \n",
      "- Classes: 4 \n",
      "- Samples: 12368 \n",
      "- Features: 452 \n",
      "- Conditional distributions: \n",
      "    - Gaussian: 452\n",
      "- Prior probabilities: \n",
      "    - business: 0.25\n",
      "    - economy: 0.25\n",
      "    - markets: 0.25\n",
      "    - politics: 0.25\n",
      "\n",
      "--------------------------------------------------------------------------------- \n"
     ]
    },
    {
     "name": "stderr",
     "output_type": "stream",
     "text": [
      "Warning message:\n",
      "\"predict.naive_bayes(): more features in the newdata are provided as there are probability tables in the object. Calculation is performed based on features to be found in the tables.\"\n"
     ]
    },
    {
     "data": {
      "text/plain": [
       "Confusion Matrix and Statistics\n",
       "\n",
       "          Reference\n",
       "Prediction business economy markets politics\n",
       "  business      432     116     122       37\n",
       "  economy        52     306      49       40\n",
       "  markets        98     210     571       13\n",
       "  politics      191     141      31      683\n",
       "\n",
       "Overall Statistics\n",
       "                                          \n",
       "               Accuracy : 0.6442          \n",
       "                 95% CI : (0.6271, 0.6611)\n",
       "    No Information Rate : 0.25            \n",
       "    P-Value [Acc > NIR] : < 2.2e-16       \n",
       "                                          \n",
       "                  Kappa : 0.5257          \n",
       "                                          \n",
       " Mcnemar's Test P-Value : < 2.2e-16       \n",
       "\n",
       "Statistics by Class:\n",
       "\n",
       "                     Class: business Class: economy Class: markets\n",
       "Sensitivity                   0.5589        0.39586         0.7387\n",
       "Specificity                   0.8814        0.93920         0.8616\n",
       "Pos Pred Value                0.6110        0.68456         0.6401\n",
       "Neg Pred Value                0.8570        0.82344         0.9082\n",
       "Prevalence                    0.2500        0.25000         0.2500\n",
       "Detection Rate                0.1397        0.09897         0.1847\n",
       "Detection Prevalence          0.2287        0.14457         0.2885\n",
       "Balanced Accuracy             0.7201        0.66753         0.8001\n",
       "                     Class: politics\n",
       "Sensitivity                   0.8836\n",
       "Specificity                   0.8435\n",
       "Pos Pred Value                0.6530\n",
       "Neg Pred Value                0.9560\n",
       "Prevalence                    0.2500\n",
       "Detection Rate                0.2209\n",
       "Detection Prevalence          0.3383\n",
       "Balanced Accuracy             0.8635"
      ]
     },
     "metadata": {},
     "output_type": "display_data"
    }
   ],
   "source": [
    "confusion4 = naive.bayes(df_corp, train_index4, test_index4)\n",
    "confusion4"
   ]
  },
  {
   "cell_type": "markdown",
   "id": "0b235bf0",
   "metadata": {},
   "source": [
    "### Chinese Section"
   ]
  },
  {
   "cell_type": "code",
   "execution_count": 36,
   "id": "f8fd3a23",
   "metadata": {
    "scrolled": true
   },
   "outputs": [
    {
     "name": "stdout",
     "output_type": "stream",
     "text": [
      "[1] \"-----------Document Term Matrix Generating\"\n",
      "<<DocumentTermMatrix (documents: 12368, terms: 399)>>\n",
      "Non-/sparse entries: 346691/4588141\n",
      "Sparsity           : 93%\n",
      "Maximal term length: 9\n",
      "Weighting          : term frequency (tf)\n",
      "Sample             :\n",
      "         Terms\n",
      "Docs      不 大 公司 经济 美国 全球 市场 他 政府 中国\n",
      "  1014503 11  2    2   11    6    0   12 42    5    1\n",
      "  1017384  9  4    3   15    4    3    2  4   10   42\n",
      "  1017412 21  6   67    1   15    2    0 36   11    1\n",
      "  1018649  6  3    7   10    4    4    1  0    8   44\n",
      "  1020531  8  5   13   10    4    0    4 15   15    2\n",
      "  1021081 10  6    0    5    6    0    7  9    2    0\n",
      "  1021465  9  2    1    5    5    5    4  1    8    0\n",
      "  1024593  6  1    4    9    0    5   11  0    0    0\n",
      "  1078840 10  4    1   21    2    3    1  1    4   39\n",
      "  1083754  4  4   41    3    2    1    4  0    5   25\n",
      "[1] \"business\" \"economy\"  \"markets\"  \"politics\"\n",
      "[1] \"-----------Naive Bayes Model Building\"\n",
      "labels\n",
      "   0    1    2    3 \n",
      "0.25 0.25 0.25 0.25 \n",
      "[1] \"-----------Testing\"\n",
      "[1] \"-----------Document Term Matrix Generating\"\n",
      "<<DocumentTermMatrix (documents: 3092, terms: 399)>>\n",
      "Non-/sparse entries: 3338/1230370\n",
      "Sparsity           : 100%\n",
      "Maximal term length: 9\n",
      "Weighting          : term frequency (tf)\n",
      "Sample             :\n",
      "         Terms\n",
      "Docs      <u+2022> 德<u+2022> 俄罗斯 交易所 经济体 领导人 欧元区 人民币 投资者\n",
      "  1006215        0          0      0      0      0      0     10      0      0\n",
      "  1011218        0          0      0      0      4      0      0      0      7\n",
      "  1017341        0          0      0      0      0      1      0     10      0\n",
      "  1018486        0          0      0      0      0      0      0     15      0\n",
      "  1020799        0          0      5      0      0      0      0      0      0\n",
      "  1023486        0          0      1      0      3      0      0      1      0\n",
      "  1034091        0          0      0      0      0      0      0     11      0\n",
      "  1037509        1          0      0      0      0      3     12      0      0\n",
      "  1078838        1          0      0      0      0      0      1      5      2\n",
      "  1082738        0          1      0      0      1      0      0      7      0\n",
      "         Terms\n",
      "Docs      委员会\n",
      "  1006215      1\n",
      "  1011218      0\n",
      "  1017341      0\n",
      "  1018486      0\n",
      "  1020799      0\n",
      "  1023486      0\n",
      "  1034091      0\n",
      "  1037509      0\n",
      "  1078838      1\n",
      "  1082738      0\n",
      "[1] \"-----------Predicting\"\n",
      "[1] \"-----------Evaluating\"\n"
     ]
    }
   ],
   "source": [
    "naivebayes_zh4 = wholeprocess(df_corp_zh, train_index4, test_index4, 0.97, 'zh')"
   ]
  },
  {
   "cell_type": "code",
   "execution_count": 37,
   "id": "4824daa0",
   "metadata": {
    "scrolled": true
   },
   "outputs": [
    {
     "data": {
      "text/plain": [
       "Confusion Matrix and Statistics\n",
       "\n",
       "          Reference\n",
       "Prediction business economy markets politics\n",
       "  business      302     124      80       92\n",
       "  economy        89     289      80      121\n",
       "  markets       239     175     515       89\n",
       "  politics      143     185      98      471\n",
       "\n",
       "Overall Statistics\n",
       "                                          \n",
       "               Accuracy : 0.51            \n",
       "                 95% CI : (0.4922, 0.5278)\n",
       "    No Information Rate : 0.25            \n",
       "    P-Value [Acc > NIR] : < 2.2e-16       \n",
       "                                          \n",
       "                  Kappa : 0.3467          \n",
       "                                          \n",
       " Mcnemar's Test P-Value : < 2.2e-16       \n",
       "\n",
       "Statistics by Class:\n",
       "\n",
       "                     Class: business Class: economy Class: markets\n",
       "Sensitivity                  0.39069        0.37387         0.6662\n",
       "Specificity                  0.87236        0.87495         0.7831\n",
       "Pos Pred Value               0.50502        0.49914         0.5059\n",
       "Neg Pred Value               0.81115        0.80740         0.8756\n",
       "Prevalence                   0.25000        0.25000         0.2500\n",
       "Detection Rate               0.09767        0.09347         0.1666\n",
       "Detection Prevalence         0.19340        0.18726         0.3292\n",
       "Balanced Accuracy            0.63152        0.62441         0.7247\n",
       "                     Class: politics\n",
       "Sensitivity                   0.6093\n",
       "Specificity                   0.8163\n",
       "Pos Pred Value                0.5251\n",
       "Neg Pred Value                0.8624\n",
       "Prevalence                    0.2500\n",
       "Detection Rate                0.1523\n",
       "Detection Prevalence          0.2901\n",
       "Balanced Accuracy             0.7128"
      ]
     },
     "metadata": {},
     "output_type": "display_data"
    }
   ],
   "source": [
    "naivebayes_zh4"
   ]
  }
 ],
 "metadata": {
  "kernelspec": {
   "display_name": "R",
   "language": "R",
   "name": "ir"
  },
  "language_info": {
   "codemirror_mode": "r",
   "file_extension": ".r",
   "mimetype": "text/x-r-source",
   "name": "R",
   "pygments_lexer": "r",
   "version": "3.6.3"
  }
 },
 "nbformat": 4,
 "nbformat_minor": 5
}
